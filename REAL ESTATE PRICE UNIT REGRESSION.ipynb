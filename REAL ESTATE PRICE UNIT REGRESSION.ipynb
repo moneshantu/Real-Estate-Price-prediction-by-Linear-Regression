{
 "cells": [
  {
   "cell_type": "code",
   "execution_count": 1,
   "id": "4694cf89",
   "metadata": {},
   "outputs": [],
   "source": [
    "#import all library\n",
    "import numpy as np\n",
    "import pandas as pd\n",
    "import seaborn as sb\n",
    "import matplotlib.pyplot as plt\n",
    "import warnings\n",
    "warnings.filterwarnings(\"ignore\")"
   ]
  },
  {
   "cell_type": "code",
   "execution_count": 2,
   "id": "2110cd81",
   "metadata": {},
   "outputs": [],
   "source": [
    "#loading the dataset"
   ]
  },
  {
   "cell_type": "code",
   "execution_count": 3,
   "id": "82caa695",
   "metadata": {},
   "outputs": [],
   "source": [
    "df=pd.read_excel(\"Real estate valuation data set.xlsx\")"
   ]
  },
  {
   "cell_type": "code",
   "execution_count": 4,
   "id": "0f453622",
   "metadata": {},
   "outputs": [
    {
     "data": {
      "text/html": [
       "<div>\n",
       "<style scoped>\n",
       "    .dataframe tbody tr th:only-of-type {\n",
       "        vertical-align: middle;\n",
       "    }\n",
       "\n",
       "    .dataframe tbody tr th {\n",
       "        vertical-align: top;\n",
       "    }\n",
       "\n",
       "    .dataframe thead th {\n",
       "        text-align: right;\n",
       "    }\n",
       "</style>\n",
       "<table border=\"1\" class=\"dataframe\">\n",
       "  <thead>\n",
       "    <tr style=\"text-align: right;\">\n",
       "      <th></th>\n",
       "      <th>No</th>\n",
       "      <th>X1 transaction date</th>\n",
       "      <th>X2 house age</th>\n",
       "      <th>X3 distance to the nearest MRT station</th>\n",
       "      <th>X4 number of convenience stores</th>\n",
       "      <th>X5 latitude</th>\n",
       "      <th>X6 longitude</th>\n",
       "      <th>Y house price of unit area</th>\n",
       "    </tr>\n",
       "  </thead>\n",
       "  <tbody>\n",
       "    <tr>\n",
       "      <th>0</th>\n",
       "      <td>1</td>\n",
       "      <td>2012.916667</td>\n",
       "      <td>32.0</td>\n",
       "      <td>84.87882</td>\n",
       "      <td>10</td>\n",
       "      <td>24.98298</td>\n",
       "      <td>121.54024</td>\n",
       "      <td>37.9</td>\n",
       "    </tr>\n",
       "    <tr>\n",
       "      <th>1</th>\n",
       "      <td>2</td>\n",
       "      <td>2012.916667</td>\n",
       "      <td>19.5</td>\n",
       "      <td>306.59470</td>\n",
       "      <td>9</td>\n",
       "      <td>24.98034</td>\n",
       "      <td>121.53951</td>\n",
       "      <td>42.2</td>\n",
       "    </tr>\n",
       "    <tr>\n",
       "      <th>2</th>\n",
       "      <td>3</td>\n",
       "      <td>2013.583333</td>\n",
       "      <td>13.3</td>\n",
       "      <td>561.98450</td>\n",
       "      <td>5</td>\n",
       "      <td>24.98746</td>\n",
       "      <td>121.54391</td>\n",
       "      <td>47.3</td>\n",
       "    </tr>\n",
       "    <tr>\n",
       "      <th>3</th>\n",
       "      <td>4</td>\n",
       "      <td>2013.500000</td>\n",
       "      <td>13.3</td>\n",
       "      <td>561.98450</td>\n",
       "      <td>5</td>\n",
       "      <td>24.98746</td>\n",
       "      <td>121.54391</td>\n",
       "      <td>54.8</td>\n",
       "    </tr>\n",
       "    <tr>\n",
       "      <th>4</th>\n",
       "      <td>5</td>\n",
       "      <td>2012.833333</td>\n",
       "      <td>5.0</td>\n",
       "      <td>390.56840</td>\n",
       "      <td>5</td>\n",
       "      <td>24.97937</td>\n",
       "      <td>121.54245</td>\n",
       "      <td>43.1</td>\n",
       "    </tr>\n",
       "    <tr>\n",
       "      <th>...</th>\n",
       "      <td>...</td>\n",
       "      <td>...</td>\n",
       "      <td>...</td>\n",
       "      <td>...</td>\n",
       "      <td>...</td>\n",
       "      <td>...</td>\n",
       "      <td>...</td>\n",
       "      <td>...</td>\n",
       "    </tr>\n",
       "    <tr>\n",
       "      <th>409</th>\n",
       "      <td>410</td>\n",
       "      <td>2013.000000</td>\n",
       "      <td>13.7</td>\n",
       "      <td>4082.01500</td>\n",
       "      <td>0</td>\n",
       "      <td>24.94155</td>\n",
       "      <td>121.50381</td>\n",
       "      <td>15.4</td>\n",
       "    </tr>\n",
       "    <tr>\n",
       "      <th>410</th>\n",
       "      <td>411</td>\n",
       "      <td>2012.666667</td>\n",
       "      <td>5.6</td>\n",
       "      <td>90.45606</td>\n",
       "      <td>9</td>\n",
       "      <td>24.97433</td>\n",
       "      <td>121.54310</td>\n",
       "      <td>50.0</td>\n",
       "    </tr>\n",
       "    <tr>\n",
       "      <th>411</th>\n",
       "      <td>412</td>\n",
       "      <td>2013.250000</td>\n",
       "      <td>18.8</td>\n",
       "      <td>390.96960</td>\n",
       "      <td>7</td>\n",
       "      <td>24.97923</td>\n",
       "      <td>121.53986</td>\n",
       "      <td>40.6</td>\n",
       "    </tr>\n",
       "    <tr>\n",
       "      <th>412</th>\n",
       "      <td>413</td>\n",
       "      <td>2013.000000</td>\n",
       "      <td>8.1</td>\n",
       "      <td>104.81010</td>\n",
       "      <td>5</td>\n",
       "      <td>24.96674</td>\n",
       "      <td>121.54067</td>\n",
       "      <td>52.5</td>\n",
       "    </tr>\n",
       "    <tr>\n",
       "      <th>413</th>\n",
       "      <td>414</td>\n",
       "      <td>2013.500000</td>\n",
       "      <td>6.5</td>\n",
       "      <td>90.45606</td>\n",
       "      <td>9</td>\n",
       "      <td>24.97433</td>\n",
       "      <td>121.54310</td>\n",
       "      <td>63.9</td>\n",
       "    </tr>\n",
       "  </tbody>\n",
       "</table>\n",
       "<p>414 rows × 8 columns</p>\n",
       "</div>"
      ],
      "text/plain": [
       "      No  X1 transaction date  X2 house age  \\\n",
       "0      1          2012.916667          32.0   \n",
       "1      2          2012.916667          19.5   \n",
       "2      3          2013.583333          13.3   \n",
       "3      4          2013.500000          13.3   \n",
       "4      5          2012.833333           5.0   \n",
       "..   ...                  ...           ...   \n",
       "409  410          2013.000000          13.7   \n",
       "410  411          2012.666667           5.6   \n",
       "411  412          2013.250000          18.8   \n",
       "412  413          2013.000000           8.1   \n",
       "413  414          2013.500000           6.5   \n",
       "\n",
       "     X3 distance to the nearest MRT station  X4 number of convenience stores  \\\n",
       "0                                  84.87882                               10   \n",
       "1                                 306.59470                                9   \n",
       "2                                 561.98450                                5   \n",
       "3                                 561.98450                                5   \n",
       "4                                 390.56840                                5   \n",
       "..                                      ...                              ...   \n",
       "409                              4082.01500                                0   \n",
       "410                                90.45606                                9   \n",
       "411                               390.96960                                7   \n",
       "412                               104.81010                                5   \n",
       "413                                90.45606                                9   \n",
       "\n",
       "     X5 latitude  X6 longitude  Y house price of unit area  \n",
       "0       24.98298     121.54024                        37.9  \n",
       "1       24.98034     121.53951                        42.2  \n",
       "2       24.98746     121.54391                        47.3  \n",
       "3       24.98746     121.54391                        54.8  \n",
       "4       24.97937     121.54245                        43.1  \n",
       "..           ...           ...                         ...  \n",
       "409     24.94155     121.50381                        15.4  \n",
       "410     24.97433     121.54310                        50.0  \n",
       "411     24.97923     121.53986                        40.6  \n",
       "412     24.96674     121.54067                        52.5  \n",
       "413     24.97433     121.54310                        63.9  \n",
       "\n",
       "[414 rows x 8 columns]"
      ]
     },
     "execution_count": 4,
     "metadata": {},
     "output_type": "execute_result"
    }
   ],
   "source": [
    "df"
   ]
  },
  {
   "cell_type": "code",
   "execution_count": 5,
   "id": "cdfe8f95",
   "metadata": {},
   "outputs": [
    {
     "data": {
      "text/plain": [
       "Index(['No', 'X1 transaction date', 'X2 house age',\n",
       "       'X3 distance to the nearest MRT station',\n",
       "       'X4 number of convenience stores', 'X5 latitude', 'X6 longitude',\n",
       "       'Y house price of unit area'],\n",
       "      dtype='object')"
      ]
     },
     "execution_count": 5,
     "metadata": {},
     "output_type": "execute_result"
    }
   ],
   "source": [
    "#fetch all column name\n",
    "df.columns"
   ]
  },
  {
   "cell_type": "code",
   "execution_count": 6,
   "id": "994eb575",
   "metadata": {},
   "outputs": [],
   "source": [
    "#change column name\n",
    "df.columns=[\"Id\",\"Date\",\"Age\",\"Distance\",\"Stores\",\"Latitude\",\"Longitude\",\"Price\"]"
   ]
  },
  {
   "cell_type": "code",
   "execution_count": 7,
   "id": "f52a7b65",
   "metadata": {},
   "outputs": [
    {
     "data": {
      "text/plain": [
       "Index(['Id', 'Date', 'Age', 'Distance', 'Stores', 'Latitude', 'Longitude',\n",
       "       'Price'],\n",
       "      dtype='object')"
      ]
     },
     "execution_count": 7,
     "metadata": {},
     "output_type": "execute_result"
    }
   ],
   "source": [
    "df.columns"
   ]
  },
  {
   "cell_type": "code",
   "execution_count": 8,
   "id": "b6ed7ca6",
   "metadata": {},
   "outputs": [
    {
     "data": {
      "text/html": [
       "<div>\n",
       "<style scoped>\n",
       "    .dataframe tbody tr th:only-of-type {\n",
       "        vertical-align: middle;\n",
       "    }\n",
       "\n",
       "    .dataframe tbody tr th {\n",
       "        vertical-align: top;\n",
       "    }\n",
       "\n",
       "    .dataframe thead th {\n",
       "        text-align: right;\n",
       "    }\n",
       "</style>\n",
       "<table border=\"1\" class=\"dataframe\">\n",
       "  <thead>\n",
       "    <tr style=\"text-align: right;\">\n",
       "      <th></th>\n",
       "      <th>Id</th>\n",
       "      <th>Date</th>\n",
       "      <th>Age</th>\n",
       "      <th>Distance</th>\n",
       "      <th>Stores</th>\n",
       "      <th>Latitude</th>\n",
       "      <th>Longitude</th>\n",
       "      <th>Price</th>\n",
       "    </tr>\n",
       "  </thead>\n",
       "  <tbody>\n",
       "    <tr>\n",
       "      <th>0</th>\n",
       "      <td>1</td>\n",
       "      <td>2012.916667</td>\n",
       "      <td>32.0</td>\n",
       "      <td>84.87882</td>\n",
       "      <td>10</td>\n",
       "      <td>24.98298</td>\n",
       "      <td>121.54024</td>\n",
       "      <td>37.9</td>\n",
       "    </tr>\n",
       "    <tr>\n",
       "      <th>1</th>\n",
       "      <td>2</td>\n",
       "      <td>2012.916667</td>\n",
       "      <td>19.5</td>\n",
       "      <td>306.59470</td>\n",
       "      <td>9</td>\n",
       "      <td>24.98034</td>\n",
       "      <td>121.53951</td>\n",
       "      <td>42.2</td>\n",
       "    </tr>\n",
       "    <tr>\n",
       "      <th>2</th>\n",
       "      <td>3</td>\n",
       "      <td>2013.583333</td>\n",
       "      <td>13.3</td>\n",
       "      <td>561.98450</td>\n",
       "      <td>5</td>\n",
       "      <td>24.98746</td>\n",
       "      <td>121.54391</td>\n",
       "      <td>47.3</td>\n",
       "    </tr>\n",
       "    <tr>\n",
       "      <th>3</th>\n",
       "      <td>4</td>\n",
       "      <td>2013.500000</td>\n",
       "      <td>13.3</td>\n",
       "      <td>561.98450</td>\n",
       "      <td>5</td>\n",
       "      <td>24.98746</td>\n",
       "      <td>121.54391</td>\n",
       "      <td>54.8</td>\n",
       "    </tr>\n",
       "    <tr>\n",
       "      <th>4</th>\n",
       "      <td>5</td>\n",
       "      <td>2012.833333</td>\n",
       "      <td>5.0</td>\n",
       "      <td>390.56840</td>\n",
       "      <td>5</td>\n",
       "      <td>24.97937</td>\n",
       "      <td>121.54245</td>\n",
       "      <td>43.1</td>\n",
       "    </tr>\n",
       "  </tbody>\n",
       "</table>\n",
       "</div>"
      ],
      "text/plain": [
       "   Id         Date   Age   Distance  Stores  Latitude  Longitude  Price\n",
       "0   1  2012.916667  32.0   84.87882      10  24.98298  121.54024   37.9\n",
       "1   2  2012.916667  19.5  306.59470       9  24.98034  121.53951   42.2\n",
       "2   3  2013.583333  13.3  561.98450       5  24.98746  121.54391   47.3\n",
       "3   4  2013.500000  13.3  561.98450       5  24.98746  121.54391   54.8\n",
       "4   5  2012.833333   5.0  390.56840       5  24.97937  121.54245   43.1"
      ]
     },
     "execution_count": 8,
     "metadata": {},
     "output_type": "execute_result"
    }
   ],
   "source": [
    "df.head()"
   ]
  },
  {
   "cell_type": "code",
   "execution_count": 9,
   "id": "df0f25c8",
   "metadata": {},
   "outputs": [
    {
     "data": {
      "text/html": [
       "<div>\n",
       "<style scoped>\n",
       "    .dataframe tbody tr th:only-of-type {\n",
       "        vertical-align: middle;\n",
       "    }\n",
       "\n",
       "    .dataframe tbody tr th {\n",
       "        vertical-align: top;\n",
       "    }\n",
       "\n",
       "    .dataframe thead th {\n",
       "        text-align: right;\n",
       "    }\n",
       "</style>\n",
       "<table border=\"1\" class=\"dataframe\">\n",
       "  <thead>\n",
       "    <tr style=\"text-align: right;\">\n",
       "      <th></th>\n",
       "      <th>Id</th>\n",
       "      <th>Date</th>\n",
       "      <th>Age</th>\n",
       "      <th>Distance</th>\n",
       "      <th>Stores</th>\n",
       "      <th>Latitude</th>\n",
       "      <th>Longitude</th>\n",
       "      <th>Price</th>\n",
       "    </tr>\n",
       "  </thead>\n",
       "  <tbody>\n",
       "    <tr>\n",
       "      <th>409</th>\n",
       "      <td>410</td>\n",
       "      <td>2013.000000</td>\n",
       "      <td>13.7</td>\n",
       "      <td>4082.01500</td>\n",
       "      <td>0</td>\n",
       "      <td>24.94155</td>\n",
       "      <td>121.50381</td>\n",
       "      <td>15.4</td>\n",
       "    </tr>\n",
       "    <tr>\n",
       "      <th>410</th>\n",
       "      <td>411</td>\n",
       "      <td>2012.666667</td>\n",
       "      <td>5.6</td>\n",
       "      <td>90.45606</td>\n",
       "      <td>9</td>\n",
       "      <td>24.97433</td>\n",
       "      <td>121.54310</td>\n",
       "      <td>50.0</td>\n",
       "    </tr>\n",
       "    <tr>\n",
       "      <th>411</th>\n",
       "      <td>412</td>\n",
       "      <td>2013.250000</td>\n",
       "      <td>18.8</td>\n",
       "      <td>390.96960</td>\n",
       "      <td>7</td>\n",
       "      <td>24.97923</td>\n",
       "      <td>121.53986</td>\n",
       "      <td>40.6</td>\n",
       "    </tr>\n",
       "    <tr>\n",
       "      <th>412</th>\n",
       "      <td>413</td>\n",
       "      <td>2013.000000</td>\n",
       "      <td>8.1</td>\n",
       "      <td>104.81010</td>\n",
       "      <td>5</td>\n",
       "      <td>24.96674</td>\n",
       "      <td>121.54067</td>\n",
       "      <td>52.5</td>\n",
       "    </tr>\n",
       "    <tr>\n",
       "      <th>413</th>\n",
       "      <td>414</td>\n",
       "      <td>2013.500000</td>\n",
       "      <td>6.5</td>\n",
       "      <td>90.45606</td>\n",
       "      <td>9</td>\n",
       "      <td>24.97433</td>\n",
       "      <td>121.54310</td>\n",
       "      <td>63.9</td>\n",
       "    </tr>\n",
       "  </tbody>\n",
       "</table>\n",
       "</div>"
      ],
      "text/plain": [
       "      Id         Date   Age    Distance  Stores  Latitude  Longitude  Price\n",
       "409  410  2013.000000  13.7  4082.01500       0  24.94155  121.50381   15.4\n",
       "410  411  2012.666667   5.6    90.45606       9  24.97433  121.54310   50.0\n",
       "411  412  2013.250000  18.8   390.96960       7  24.97923  121.53986   40.6\n",
       "412  413  2013.000000   8.1   104.81010       5  24.96674  121.54067   52.5\n",
       "413  414  2013.500000   6.5    90.45606       9  24.97433  121.54310   63.9"
      ]
     },
     "execution_count": 9,
     "metadata": {},
     "output_type": "execute_result"
    }
   ],
   "source": [
    "df.tail()"
   ]
  },
  {
   "cell_type": "code",
   "execution_count": 10,
   "id": "085c1538",
   "metadata": {},
   "outputs": [
    {
     "data": {
      "text/plain": [
       "(414, 8)"
      ]
     },
     "execution_count": 10,
     "metadata": {},
     "output_type": "execute_result"
    }
   ],
   "source": [
    "#check no of rows and columns\n",
    "df.shape"
   ]
  },
  {
   "cell_type": "code",
   "execution_count": 11,
   "id": "f080ee72",
   "metadata": {},
   "outputs": [
    {
     "name": "stdout",
     "output_type": "stream",
     "text": [
      "<class 'pandas.core.frame.DataFrame'>\n",
      "RangeIndex: 414 entries, 0 to 413\n",
      "Data columns (total 8 columns):\n",
      " #   Column     Non-Null Count  Dtype  \n",
      "---  ------     --------------  -----  \n",
      " 0   Id         414 non-null    int64  \n",
      " 1   Date       414 non-null    float64\n",
      " 2   Age        414 non-null    float64\n",
      " 3   Distance   414 non-null    float64\n",
      " 4   Stores     414 non-null    int64  \n",
      " 5   Latitude   414 non-null    float64\n",
      " 6   Longitude  414 non-null    float64\n",
      " 7   Price      414 non-null    float64\n",
      "dtypes: float64(6), int64(2)\n",
      "memory usage: 26.0 KB\n"
     ]
    }
   ],
   "source": [
    "#check data info\n",
    "df.info()"
   ]
  },
  {
   "cell_type": "code",
   "execution_count": 12,
   "id": "2e5c9aa6",
   "metadata": {},
   "outputs": [
    {
     "data": {
      "text/plain": [
       "Id           0\n",
       "Date         0\n",
       "Age          0\n",
       "Distance     0\n",
       "Stores       0\n",
       "Latitude     0\n",
       "Longitude    0\n",
       "Price        0\n",
       "dtype: int64"
      ]
     },
     "execution_count": 12,
     "metadata": {},
     "output_type": "execute_result"
    }
   ],
   "source": [
    "#check null value\n",
    "df.isna().sum()"
   ]
  },
  {
   "cell_type": "code",
   "execution_count": 13,
   "id": "15891863",
   "metadata": {},
   "outputs": [
    {
     "data": {
      "text/html": [
       "<div>\n",
       "<style scoped>\n",
       "    .dataframe tbody tr th:only-of-type {\n",
       "        vertical-align: middle;\n",
       "    }\n",
       "\n",
       "    .dataframe tbody tr th {\n",
       "        vertical-align: top;\n",
       "    }\n",
       "\n",
       "    .dataframe thead th {\n",
       "        text-align: right;\n",
       "    }\n",
       "</style>\n",
       "<table border=\"1\" class=\"dataframe\">\n",
       "  <thead>\n",
       "    <tr style=\"text-align: right;\">\n",
       "      <th></th>\n",
       "      <th>Id</th>\n",
       "      <th>Date</th>\n",
       "      <th>Age</th>\n",
       "      <th>Distance</th>\n",
       "      <th>Stores</th>\n",
       "      <th>Latitude</th>\n",
       "      <th>Longitude</th>\n",
       "      <th>Price</th>\n",
       "    </tr>\n",
       "  </thead>\n",
       "  <tbody>\n",
       "    <tr>\n",
       "      <th>count</th>\n",
       "      <td>414.000000</td>\n",
       "      <td>414.000000</td>\n",
       "      <td>414.000000</td>\n",
       "      <td>414.000000</td>\n",
       "      <td>414.000000</td>\n",
       "      <td>414.000000</td>\n",
       "      <td>414.000000</td>\n",
       "      <td>414.000000</td>\n",
       "    </tr>\n",
       "    <tr>\n",
       "      <th>mean</th>\n",
       "      <td>207.500000</td>\n",
       "      <td>2013.148953</td>\n",
       "      <td>17.712560</td>\n",
       "      <td>1083.885689</td>\n",
       "      <td>4.094203</td>\n",
       "      <td>24.969030</td>\n",
       "      <td>121.533361</td>\n",
       "      <td>37.980193</td>\n",
       "    </tr>\n",
       "    <tr>\n",
       "      <th>std</th>\n",
       "      <td>119.655756</td>\n",
       "      <td>0.281995</td>\n",
       "      <td>11.392485</td>\n",
       "      <td>1262.109595</td>\n",
       "      <td>2.945562</td>\n",
       "      <td>0.012410</td>\n",
       "      <td>0.015347</td>\n",
       "      <td>13.606488</td>\n",
       "    </tr>\n",
       "    <tr>\n",
       "      <th>min</th>\n",
       "      <td>1.000000</td>\n",
       "      <td>2012.666667</td>\n",
       "      <td>0.000000</td>\n",
       "      <td>23.382840</td>\n",
       "      <td>0.000000</td>\n",
       "      <td>24.932070</td>\n",
       "      <td>121.473530</td>\n",
       "      <td>7.600000</td>\n",
       "    </tr>\n",
       "    <tr>\n",
       "      <th>25%</th>\n",
       "      <td>104.250000</td>\n",
       "      <td>2012.916667</td>\n",
       "      <td>9.025000</td>\n",
       "      <td>289.324800</td>\n",
       "      <td>1.000000</td>\n",
       "      <td>24.963000</td>\n",
       "      <td>121.528085</td>\n",
       "      <td>27.700000</td>\n",
       "    </tr>\n",
       "    <tr>\n",
       "      <th>50%</th>\n",
       "      <td>207.500000</td>\n",
       "      <td>2013.166667</td>\n",
       "      <td>16.100000</td>\n",
       "      <td>492.231300</td>\n",
       "      <td>4.000000</td>\n",
       "      <td>24.971100</td>\n",
       "      <td>121.538630</td>\n",
       "      <td>38.450000</td>\n",
       "    </tr>\n",
       "    <tr>\n",
       "      <th>75%</th>\n",
       "      <td>310.750000</td>\n",
       "      <td>2013.416667</td>\n",
       "      <td>28.150000</td>\n",
       "      <td>1454.279000</td>\n",
       "      <td>6.000000</td>\n",
       "      <td>24.977455</td>\n",
       "      <td>121.543305</td>\n",
       "      <td>46.600000</td>\n",
       "    </tr>\n",
       "    <tr>\n",
       "      <th>max</th>\n",
       "      <td>414.000000</td>\n",
       "      <td>2013.583333</td>\n",
       "      <td>43.800000</td>\n",
       "      <td>6488.021000</td>\n",
       "      <td>10.000000</td>\n",
       "      <td>25.014590</td>\n",
       "      <td>121.566270</td>\n",
       "      <td>117.500000</td>\n",
       "    </tr>\n",
       "  </tbody>\n",
       "</table>\n",
       "</div>"
      ],
      "text/plain": [
       "               Id         Date         Age     Distance      Stores  \\\n",
       "count  414.000000   414.000000  414.000000   414.000000  414.000000   \n",
       "mean   207.500000  2013.148953   17.712560  1083.885689    4.094203   \n",
       "std    119.655756     0.281995   11.392485  1262.109595    2.945562   \n",
       "min      1.000000  2012.666667    0.000000    23.382840    0.000000   \n",
       "25%    104.250000  2012.916667    9.025000   289.324800    1.000000   \n",
       "50%    207.500000  2013.166667   16.100000   492.231300    4.000000   \n",
       "75%    310.750000  2013.416667   28.150000  1454.279000    6.000000   \n",
       "max    414.000000  2013.583333   43.800000  6488.021000   10.000000   \n",
       "\n",
       "         Latitude   Longitude       Price  \n",
       "count  414.000000  414.000000  414.000000  \n",
       "mean    24.969030  121.533361   37.980193  \n",
       "std      0.012410    0.015347   13.606488  \n",
       "min     24.932070  121.473530    7.600000  \n",
       "25%     24.963000  121.528085   27.700000  \n",
       "50%     24.971100  121.538630   38.450000  \n",
       "75%     24.977455  121.543305   46.600000  \n",
       "max     25.014590  121.566270  117.500000  "
      ]
     },
     "execution_count": 13,
     "metadata": {},
     "output_type": "execute_result"
    }
   ],
   "source": [
    "#check statistical theory\n",
    "df.describe()"
   ]
  },
  {
   "cell_type": "code",
   "execution_count": 14,
   "id": "504e4496",
   "metadata": {},
   "outputs": [],
   "source": [
    "#independend variable be x and dependent variable be y\n",
    "x=df.drop(\"Price\",axis=1)\n",
    "y=df[\"Price\"]"
   ]
  },
  {
   "cell_type": "code",
   "execution_count": 15,
   "id": "64e38596",
   "metadata": {},
   "outputs": [
    {
     "data": {
      "text/plain": [
       "(414, 8)"
      ]
     },
     "execution_count": 15,
     "metadata": {},
     "output_type": "execute_result"
    }
   ],
   "source": [
    "df.shape"
   ]
  },
  {
   "cell_type": "code",
   "execution_count": 16,
   "id": "570e3deb",
   "metadata": {},
   "outputs": [
    {
     "data": {
      "text/plain": [
       "(414, 7)"
      ]
     },
     "execution_count": 16,
     "metadata": {},
     "output_type": "execute_result"
    }
   ],
   "source": [
    "x.shape"
   ]
  },
  {
   "cell_type": "code",
   "execution_count": 17,
   "id": "1257b43c",
   "metadata": {},
   "outputs": [
    {
     "data": {
      "text/plain": [
       "(414,)"
      ]
     },
     "execution_count": 17,
     "metadata": {},
     "output_type": "execute_result"
    }
   ],
   "source": [
    "y.shape"
   ]
  },
  {
   "cell_type": "code",
   "execution_count": 18,
   "id": "2d8ab0e7",
   "metadata": {},
   "outputs": [],
   "source": [
    "#we do train_test_split train the model with 70% and test the model with 30%\n",
    "from sklearn.model_selection import train_test_split"
   ]
  },
  {
   "cell_type": "code",
   "execution_count": 19,
   "id": "a5e43ff6",
   "metadata": {},
   "outputs": [],
   "source": [
    "x_train,x_test,y_train,y_test=train_test_split(x,y,test_size=0.3,random_state=1)"
   ]
  },
  {
   "cell_type": "code",
   "execution_count": 20,
   "id": "ee5ec941",
   "metadata": {},
   "outputs": [
    {
     "data": {
      "text/plain": [
       "(289, 7)"
      ]
     },
     "execution_count": 20,
     "metadata": {},
     "output_type": "execute_result"
    }
   ],
   "source": [
    "x_train.shape"
   ]
  },
  {
   "cell_type": "code",
   "execution_count": 21,
   "id": "bbacc249",
   "metadata": {},
   "outputs": [
    {
     "data": {
      "text/plain": [
       "(125, 7)"
      ]
     },
     "execution_count": 21,
     "metadata": {},
     "output_type": "execute_result"
    }
   ],
   "source": [
    "x_test.shape"
   ]
  },
  {
   "cell_type": "code",
   "execution_count": 22,
   "id": "6722b8d7",
   "metadata": {},
   "outputs": [],
   "source": [
    "#we perform standardScaler on input variable x all datapoints should be numpy array in same unit\n",
    "from sklearn.preprocessing import StandardScaler\n",
    "#making object\n",
    "ss=StandardScaler()"
   ]
  },
  {
   "cell_type": "code",
   "execution_count": 23,
   "id": "7e362ae9",
   "metadata": {},
   "outputs": [],
   "source": [
    "x_train=ss.fit_transform(x_train)"
   ]
  },
  {
   "cell_type": "code",
   "execution_count": 24,
   "id": "f6fc5bc8",
   "metadata": {},
   "outputs": [],
   "source": [
    "x_test=ss.transform(x_test)"
   ]
  },
  {
   "cell_type": "code",
   "execution_count": 25,
   "id": "e8bffbe5",
   "metadata": {},
   "outputs": [
    {
     "data": {
      "text/plain": [
       "array([[ 0.6213788 , -0.00705451,  0.81742835, ...,  0.96345004,\n",
       "         0.29912759,  0.37499088],\n",
       "       [ 0.59591029, -0.88082007, -0.03243787, ...,  1.30593106,\n",
       "         0.01014924,  0.6990932 ],\n",
       "       [-0.87277386,  0.86671104, -0.14517523, ...,  0.27848802,\n",
       "         1.01996802,  0.60630584],\n",
       "       ...,\n",
       "       [ 1.65709826, -1.75458562,  1.64995036, ..., -1.09143603,\n",
       "         0.2132368 ,  1.07350978],\n",
       "       [ 0.29028815, -1.46333056, -0.44869888, ...,  0.96345004,\n",
       "        -0.26197204,  0.5729808 ],\n",
       "       [-1.39063359, -0.00705451, -0.52674781, ..., -1.09143603,\n",
       "        -1.38738216,  0.92910129]])"
      ]
     },
     "execution_count": 25,
     "metadata": {},
     "output_type": "execute_result"
    }
   ],
   "source": [
    "x_train"
   ]
  },
  {
   "cell_type": "code",
   "execution_count": 26,
   "id": "66bfe1af",
   "metadata": {},
   "outputs": [
    {
     "data": {
      "text/plain": [
       "array([[ 1.58918223e+00,  1.15796611e+00, -6.65501483e-01,\n",
       "         9.52145194e-01, -6.39929919e-02, -7.82935781e-01,\n",
       "        -1.35072326e+00],\n",
       "       [-8.38815847e-01, -2.98309932e-01, -1.47200718e+00,\n",
       "        -7.02824570e-01,  6.20969032e-01, -2.90067155e-01,\n",
       "         4.37066931e-01],\n",
       "       [-1.17208028e-01, -5.89565000e-01, -7.95583048e-01,\n",
       "         1.61646204e+00, -1.43391704e+00, -1.17867557e+00,\n",
       "         2.09547757e+00],\n",
       "       [-3.29445621e-01, -1.46333056e+00, -1.79863644e-01,\n",
       "         2.41117020e+00, -1.43391704e+00, -2.11544705e+00,\n",
       "        -2.01134310e+00],\n",
       "       [-9.40689892e-01, -1.17207549e+00, -1.56740033e+00,\n",
       "        -6.38156838e-01, -1.09143603e+00,  4.39603173e-01,\n",
       "        -2.35968119e-01],\n",
       "       [ 1.67407726e+00,  8.66711042e-01, -2.92600999e-01,\n",
       "         5.22196302e-01, -7.48955016e-01, -3.89604141e-01,\n",
       "        -1.15730736e+00],\n",
       "       [ 7.99658378e-01, -7.05451341e-03,  1.09226504e-02,\n",
       "         8.93975519e-01, -4.06474004e-01, -5.08406351e-01,\n",
       "        -1.41671990e+00],\n",
       "       [ 1.66558776e+00,  8.66711042e-01, -4.31354668e-01,\n",
       "         7.80885121e-02, -6.39929919e-02,  1.78495792e+00,\n",
       "        -9.22718459e-03],\n",
       "       [-1.56042367e+00, -1.46333056e+00, -3.24378710e-02,\n",
       "        -5.76377810e-01, -1.09143603e+00,  4.90977101e-01,\n",
       "        -1.96762194e-01],\n",
       "       [-1.21235401e+00,  1.15796611e+00,  1.06024727e+00,\n",
       "         2.76797443e+00, -1.09143603e+00, -1.61134038e+00,\n",
       "        -2.53408877e+00],\n",
       "       [ 2.64819641e-01, -8.80820069e-01,  7.82739931e-01,\n",
       "         2.68950632e+00, -1.09143603e+00, -1.52544959e+00,\n",
       "        -2.50468432e+00],\n",
       "       [-1.01709543e+00, -5.89565000e-01,  1.10360779e+00,\n",
       "        -5.54714053e-01,  6.20969032e-01, -4.05658494e-01,\n",
       "         3.55387920e-01],\n",
       "       [ 3.92162198e-01,  5.75455624e-01,  3.14446300e-01,\n",
       "        -1.01702276e-02, -1.43391704e+00, -5.79045503e-01,\n",
       "         9.85296452e-01],\n",
       "       [ 8.42105897e-01, -2.98309932e-01, -1.35059772e+00,\n",
       "        -7.32847142e-01, -6.39929919e-02, -1.89727451e-01,\n",
       "         3.73684018e-01],\n",
       "       [ 7.23252844e-01, -8.80820069e-01, -1.05574618e+00,\n",
       "        -7.85742518e-01,  1.64841207e+00,  4.01875444e-01,\n",
       "         5.81475422e-01],\n",
       "       [ 1.12008574e-01,  1.44922118e+00,  2.25054609e-03,\n",
       "         5.75251567e-01, -4.06474004e-01, -1.61632334e-01,\n",
       "        -1.26381679e+00],\n",
       "       [ 8.65400625e-02, -2.98309932e-01, -1.56740033e+00,\n",
       "        -6.38156838e-01, -1.09143603e+00,  4.39603173e-01,\n",
       "        -2.35968119e-01],\n",
       "       [-1.02558493e+00,  1.15796611e+00, -5.44092024e-01,\n",
       "        -4.29542800e-01, -6.39929919e-02,  4.11508056e-01,\n",
       "         8.78787022e-01],\n",
       "       [-1.17839600e+00, -8.80820069e-01, -7.57983924e-02,\n",
       "         8.90990171e-01, -4.06474004e-01, -5.05195480e-01,\n",
       "        -1.41541304e+00],\n",
       "       [ 1.43637116e+00, -1.46333056e+00, -1.88535748e-01,\n",
       "        -6.25846878e-01,  2.78488020e-01,  1.01996802e+00,\n",
       "         6.06305841e-01],\n",
       "       [ 1.56371372e+00, -5.89565000e-01,  1.95947547e-02,\n",
       "        -7.91828698e-01,  1.99089308e+00,  1.09783163e+00,\n",
       "         3.95900709e-01],\n",
       "       [-9.23710884e-01, -8.80820069e-01,  2.19053153e-01,\n",
       "         1.12718729e+00, -6.39929919e-02, -6.61725419e-01,\n",
       "        -1.55132691e+00],\n",
       "       [ 1.05434349e+00, -2.98309932e-01,  1.60658984e+00,\n",
       "        -4.65448110e-01,  1.30593106e+00,  6.63394738e-02,\n",
       "         7.01706926e-01],\n",
       "       [ 1.24960208e+00, -1.17207549e+00, -1.16848353e+00,\n",
       "        -6.49697586e-01,  6.20969032e-01,  5.23888524e-01,\n",
       "         7.16082432e-01],\n",
       "       [-1.45854962e+00, -2.98309932e-01, -9.51680925e-01,\n",
       "        -4.95659789e-01,  2.78488020e-01,  5.06228736e-01,\n",
       "         8.32393343e-01],\n",
       "       [ 2.71135362e-02, -5.89565000e-01, -6.42155819e-03,\n",
       "         2.79094212e-01, -1.09143603e+00, -1.40504195e+00,\n",
       "         9.58505736e-01],\n",
       "       [-1.66229771e+00, -1.75458562e+00, -9.51680925e-01,\n",
       "         8.90309161e-01, -4.06474004e-01, -5.03590045e-01,\n",
       "        -1.41541304e+00],\n",
       "       [-1.13594848e+00,  1.15796611e+00, -8.30271465e-01,\n",
       "        -7.74201497e-01,  2.78488020e-01, -2.07387239e-01,\n",
       "         4.22691425e-01],\n",
       "       [-1.67078721e+00, -1.17207549e+00, -1.13379511e+00,\n",
       "        -5.44444389e-01,  2.78488020e-01,  8.06445131e-01,\n",
       "         5.39002336e-01],\n",
       "       [ 8.25126889e-01,  5.75455624e-01, -1.19158914e-01,\n",
       "         2.42357471e+00, -1.43391704e+00, -2.22943295e+00,\n",
       "        -1.98585925e+00],\n",
       "       [ 3.49714679e-01, -1.17207549e+00, -1.39395824e+00,\n",
       "         8.11804061e-01, -4.06474004e-01, -4.61848728e-01,\n",
       "        -1.36640563e+00],\n",
       "       [ 5.25820475e-02, -2.98309932e-01,  1.77135982e+00,\n",
       "        -3.23743107e-01, -4.06474004e-01,  4.58065678e-01,\n",
       "         1.77654392e-01],\n",
       "       [-3.37935125e-01,  8.66711042e-01,  9.76436932e-02,\n",
       "        -3.62869586e-01, -4.06474004e-01,  6.34663558e-01,\n",
       "         2.26661799e-01],\n",
       "       [ 1.79293032e+00, -5.89565000e-01, -8.64959882e-01,\n",
       "        -7.74201497e-01,  2.78488020e-01, -2.07387239e-01,\n",
       "         4.22691425e-01],\n",
       "       [-8.04857832e-01, -2.98309932e-01, -7.57983924e-02,\n",
       "        -7.06094061e-01,  1.30593106e+00,  6.21820075e-01,\n",
       "         5.80168558e-01],\n",
       "       [-7.11473290e-01, -5.89565000e-01, -3.87994146e-01,\n",
       "         2.51630625e+00, -1.43391704e+00, -2.44616672e+00,\n",
       "        -1.98455238e+00],\n",
       "       [-5.84130734e-01, -7.05451341e-03,  7.39379410e-01,\n",
       "        -4.70321472e-01,  2.78488020e-01,  4.01875444e-01,\n",
       "         2.89391279e-01],\n",
       "       [-6.69025772e-01,  2.84200555e-01,  1.16431252e+00,\n",
       "        -5.24842878e-01, -6.39929919e-02,  1.01675715e+00,\n",
       "         6.82103963e-01],\n",
       "       [ 1.88414108e-01,  2.84200555e-01, -7.78238839e-01,\n",
       "         2.68785794e-01, -1.43391704e+00,  1.31376267e+00,\n",
       "        -4.31344313e-01],\n",
       "       [-1.00229020e-01, -8.80820069e-01, -1.53847331e-01,\n",
       "         2.41117020e+00, -1.43391704e+00, -2.11544705e+00,\n",
       "        -2.01134310e+00],\n",
       "       [-1.65380821e+00, -1.75458562e+00,  1.42447565e+00,\n",
       "        -3.57182951e-01,  9.63450044e-01,  8.03234260e-01,\n",
       "         1.44982788e-01],\n",
       "       [-9.15221380e-01, -8.80820069e-01,  1.19900094e+00,\n",
       "         6.32067946e-02, -1.43391704e+00, -1.61535397e+00,\n",
       "        -2.24859773e-01],\n",
       "       [-2.44550584e-01,  1.44922118e+00, -9.95041446e-01,\n",
       "        -7.85742518e-01,  1.64841207e+00,  4.01875444e-01,\n",
       "         5.81475422e-01],\n",
       "       [ 2.47840634e-01,  1.15796611e+00, -1.22051616e+00,\n",
       "         8.68074625e-01, -4.06474004e-01, -5.08406351e-01,\n",
       "        -1.39581007e+00],\n",
       "       [ 1.23262307e+00,  8.66711042e-01, -4.22682564e-01,\n",
       "         5.18529139e-01, -7.48955016e-01, -4.17699258e-01,\n",
       "        -1.14358529e+00],\n",
       "       [ 3.66693686e-01, -2.98309932e-01, -1.15113932e+00,\n",
       "         3.95669944e-01, -4.06474004e-01,  2.25277565e-01,\n",
       "        -1.17168287e+00],\n",
       "       [ 1.41090265e+00, -1.17207549e+00, -2.66584687e-01,\n",
       "         6.11544497e-01, -7.48955016e-01, -3.75957942e-01,\n",
       "        -1.23441235e+00],\n",
       "       [ 1.64860875e+00, -8.80820069e-01,  2.71085779e-01,\n",
       "        -4.46369055e-01, -6.39929919e-02,  3.75385762e-01,\n",
       "         2.75669205e-01],\n",
       "       [ 7.91168874e-01,  1.15796611e+00,  7.22035201e-01,\n",
       "        -5.88698866e-01,  6.20969032e-01,  8.24907636e-01,\n",
       "         4.70391967e-01],\n",
       "       [ 1.11377002e+00, -7.05451341e-03,  1.88409717e+00,\n",
       "        -3.61813900e-01, -7.48955016e-01,  5.17466783e-01,\n",
       "         3.58596294e-02],\n",
       "       [ 1.01189597e+00, -1.46333056e+00, -3.96666251e-01,\n",
       "         2.51630625e+00, -1.43391704e+00, -2.44616672e+00,\n",
       "        -1.98455238e+00],\n",
       "       [-1.15292749e+00,  8.66711042e-01,  1.91011349e+00,\n",
       "        -7.58979033e-01,  1.30593106e+00,  5.64024406e-01,\n",
       "         5.93890632e-01],\n",
       "       [ 1.71652478e+00, -1.75458562e+00,  1.11227989e+00,\n",
       "        -7.28265963e-01,  1.64841207e+00,  1.14037567e+00,\n",
       "         3.56694784e-01],\n",
       "       [ 1.76746181e+00, -5.89565000e-01, -3.79322042e-01,\n",
       "         2.42357471e+00, -1.43391704e+00, -2.22943295e+00,\n",
       "        -1.98585925e+00],\n",
       "       [-9.83137410e-01, -1.46333056e+00, -1.56740033e+00,\n",
       "        -5.85932534e-01,  1.64841207e+00, -6.37007826e-02,\n",
       "         6.48778927e-01],\n",
       "       [ 1.16470704e+00, -8.80820069e-01,  1.16431252e+00,\n",
       "        -6.50883283e-01,  1.64841207e+00, -5.24627358e-02,\n",
       "         5.95197496e-01],\n",
       "       [ 1.46183967e+00, -2.98309932e-01, -1.56740033e+00,\n",
       "        -6.38156838e-01, -1.09143603e+00,  4.39603173e-01,\n",
       "        -2.35968119e-01],\n",
       "       [-8.32500126e-02, -7.05451341e-03, -4.22682564e-01,\n",
       "        -2.55395429e-01, -7.48955016e-01,  3.52106951e-01,\n",
       "         1.00032539e+00],\n",
       "       [ 4.68567731e-01, -1.75458562e+00, -3.01273104e-01,\n",
       "        -5.85722683e-01, -1.09143603e+00,  4.70909161e-01,\n",
       "        -1.75852367e-01],\n",
       "       [-5.24704208e-01, -1.75458562e+00, -4.48698876e-01,\n",
       "        -4.62704773e-01,  2.78488020e-01, -3.35019342e-01,\n",
       "         2.07058836e-01],\n",
       "       [ 1.09679101e+00, -2.98309932e-01,  1.20767304e+00,\n",
       "         7.16072584e-02, -1.43391704e+00, -1.60331320e+00,\n",
       "        -2.44462736e-01],\n",
       "       [-8.47305350e-01, -1.17207549e+00, -4.66043085e-01,\n",
       "        -7.21683482e-01, -1.09143603e+00,  3.52106951e-01,\n",
       "        -2.84975525e-01],\n",
       "       [ 8.76063912e-01,  8.66711042e-01,  1.67020527e-01,\n",
       "         4.48941492e-01, -4.06474004e-01, -2.49128556e-01,\n",
       "        -1.14489215e+00],\n",
       "       [ 1.08830151e+00, -5.89565000e-01, -3.87994146e-01,\n",
       "         2.51630625e+00, -1.43391704e+00, -2.44616672e+00,\n",
       "        -1.98455238e+00],\n",
       "       [-1.85124058e-01, -2.98309932e-01, -3.53305729e-01,\n",
       "        -5.05623682e-01, -1.09143603e+00,  4.50038502e-01,\n",
       "        -4.50947275e-01],\n",
       "       [ 2.73309145e-01,  5.75455624e-01,  1.87542507e+00,\n",
       "        -5.90435079e-01,  1.64841207e+00,  8.69859824e-01,\n",
       "         3.34478093e-01],\n",
       "       [-7.47605088e-02, -7.05451341e-03,  2.23098135e+00,\n",
       "        -8.12168128e-01,  9.63450044e-01, -1.46380699e-01,\n",
       "         4.23998289e-01],\n",
       "       [-1.55193416e+00,  8.66711042e-01, -1.01814705e-01,\n",
       "        -5.62480381e-01,  1.30593106e+00, -1.46380699e-01,\n",
       "         6.73609346e-01],\n",
       "       [-1.36516508e+00, -5.89565000e-01, -3.87994146e-01,\n",
       "         2.42357471e+00, -1.43391704e+00, -2.22943295e+00,\n",
       "        -1.98585925e+00],\n",
       "       [ 4.77057235e-01,  2.84200555e-01, -6.71262881e-02,\n",
       "        -5.01376736e-01, -1.09143603e+00,  4.56460243e-01,\n",
       "        -4.50947275e-01],\n",
       "       [ 7.48721355e-01,  5.75455624e-01, -3.61977834e-01,\n",
       "        -6.25846878e-01,  2.78488020e-01,  1.01996802e+00,\n",
       "         6.06305841e-01],\n",
       "       [-1.76634554e-01, -1.75458562e+00,  7.65395723e-01,\n",
       "         2.71885729e+00, -1.43391704e+00, -1.63301375e+00,\n",
       "        -2.48246763e+00],\n",
       "       [-1.04256394e+00, -8.80820069e-01,  1.74534351e+00,\n",
       "        -4.14297743e-01, -7.48955016e-01,  5.34323853e-01,\n",
       "        -2.55629868e-02],\n",
       "       [ 7.74189867e-01, -2.98309932e-01, -4.97820796e-02,\n",
       "        -5.40338791e-01,  2.78488020e-01, -1.01010487e+00,\n",
       "        -1.31477771e-02],\n",
       "       [ 1.77595131e+00, -1.75458562e+00, -1.08176249e+00,\n",
       "        -7.85742518e-01,  1.64841207e+00,  4.01875444e-01,\n",
       "         5.81475422e-01],\n",
       "       [ 1.73350379e+00, -1.75458562e+00,  4.27183656e-01,\n",
       "        -7.53148558e-01,  6.20969032e-01, -1.01893477e+00,\n",
       "         2.25354935e-01],\n",
       "       [ 1.15621754e+00, -1.17207549e+00,  1.14696831e+00,\n",
       "        -3.75364150e-01,  2.78488020e-01, -4.92518652e-02,\n",
       "         8.04295764e-01],\n",
       "       [ 1.19017555e+00, -5.89565000e-01, -4.40026772e-01,\n",
       "        -2.55395429e-01, -7.48955016e-01,  3.52106951e-01,\n",
       "         1.00032539e+00],\n",
       "       [ 1.02887498e+00, -5.89565000e-01, -4.48698876e-01,\n",
       "        -7.07730897e-01, -1.09143603e+00,  3.65753151e-01,\n",
       "        -2.86935822e-01],\n",
       "       [-6.94494283e-01,  1.15796611e+00, -1.27831018e-01,\n",
       "        -6.25846878e-01,  2.78488020e-01,  1.01996802e+00,\n",
       "         6.06305841e-01],\n",
       "       [ 3.75183190e-01,  8.66711042e-01, -9.16992508e-01,\n",
       "        -3.44200584e-01,  2.78488020e-01,  2.61399858e-01,\n",
       "         9.10805194e-01],\n",
       "       [-4.65277681e-01, -1.46333056e+00, -1.56740033e+00,\n",
       "        -7.09381321e-01, -1.43391704e+00,  1.42597649e-01,\n",
       "        -1.63437157e-01],\n",
       "       [ 1.35147612e+00, -1.75458562e+00,  1.28572198e+00,\n",
       "        -7.88278288e-01,  1.99089308e+00,  1.09783163e+00,\n",
       "         3.93286981e-01],\n",
       "       [-3.54914133e-01, -1.75458562e+00, -2.23224165e-01,\n",
       "        -2.02441471e-01, -6.39929919e-02,  7.65506532e-01,\n",
       "         2.86718765e-02],\n",
       "       [-8.98242373e-01, -8.80820069e-01, -8.73631986e-01,\n",
       "        -7.74201497e-01,  2.78488020e-01, -2.07387239e-01,\n",
       "         4.22691425e-01],\n",
       "       [-1.61136069e+00,  5.75455624e-01, -1.02105776e+00,\n",
       "        -7.85742518e-01,  1.64841207e+00,  4.01875444e-01,\n",
       "         5.81475422e-01],\n",
       "       [ 1.47032917e+00,  2.84200555e-01, -1.09910670e+00,\n",
       "        -5.44444389e-01,  2.78488020e-01,  8.06445131e-01,\n",
       "         5.39002336e-01],\n",
       "       [-3.03977110e-01, -8.80820069e-01, -3.79322042e-01,\n",
       "         1.35758082e-01, -1.09143603e+00,  6.11384746e-01,\n",
       "         1.28783551e+00],\n",
       "       [ 1.37694463e+00,  1.15796611e+00,  1.23368935e+00,\n",
       "        -7.70072501e-01,  1.99089308e+00,  1.00311095e+00,\n",
       "         4.35106635e-01],\n",
       "       [-1.35667558e+00,  1.15796611e+00, -1.10486810e-01,\n",
       "         2.41117020e+00, -1.43391704e+00, -2.11544705e+00,\n",
       "        -2.01134310e+00],\n",
       "       [ 1.69954578e+00, -2.98309932e-01, -9.08320403e-01,\n",
       "         8.90309161e-01, -4.06474004e-01, -5.03590045e-01,\n",
       "        -1.41541304e+00],\n",
       "       [ 1.51277669e+00,  5.75455624e-01, -1.56740033e+00,\n",
       "        -6.22893690e-01,  6.20969032e-01,  6.51520628e-01,\n",
       "         6.78183371e-01],\n",
       "       [ 1.59767173e+00,  2.84200555e-01,  1.97949032e+00,\n",
       "        -7.60089393e-01,  1.30593106e+00, -1.41564393e-01,\n",
       "         5.29200855e-01],\n",
       "       [-7.96368328e-01,  5.75455624e-01, -5.09403606e-01,\n",
       "         2.35115597e-01, -1.09143603e+00, -1.38738216e+00,\n",
       "         9.29101292e-01],\n",
       "       [-1.50948664e+00, -2.98309932e-01, -6.91517796e-01,\n",
       "        -6.34009511e-01,  9.63450044e-01,  4.78133619e-01,\n",
       "         7.32418234e-01],\n",
       "       [ 9.35490438e-01, -7.05451341e-03,  2.79757883e-01,\n",
       "        -4.26068684e-01, -6.39929919e-02,  3.95453703e-01,\n",
       "         2.57373107e-01],\n",
       "       [-1.59438168e+00, -1.75458562e+00,  2.01708945e-01,\n",
       "         1.12718729e+00, -6.39929919e-02, -6.61725419e-01,\n",
       "        -1.55132691e+00],\n",
       "       [ 6.04399791e-01, -1.46333056e+00, -4.40026772e-01,\n",
       "        -4.62704773e-01,  2.78488020e-01, -3.35019342e-01,\n",
       "         2.07058836e-01],\n",
       "       [-1.18688550e+00,  1.15796611e+00, -1.10777880e+00,\n",
       "        -6.49697586e-01,  6.20969032e-01,  5.23888524e-01,\n",
       "         7.16082432e-01],\n",
       "       [-3.12466614e-01, -1.17207549e+00, -1.56740033e+00,\n",
       "        -7.09381321e-01, -1.43391704e+00,  1.42597649e-01,\n",
       "        -1.63437157e-01],\n",
       "       [ 2.30861626e-01,  8.66711042e-01, -5.35419919e-01,\n",
       "         1.69135948e+00, -1.43391704e+00,  2.55476413e+00,\n",
       "        -1.07432149e+00],\n",
       "       [-1.37365458e+00, -7.05451341e-03, -1.62519435e-01,\n",
       "        -6.25846878e-01,  2.78488020e-01,  1.01996802e+00,\n",
       "         6.06305841e-01],\n",
       "       [ 5.11015250e-01, -7.05451341e-03, -1.62519435e-01,\n",
       "         9.81148824e-01, -4.06474004e-01, -8.40731451e-01,\n",
       "        -1.34680267e+00],\n",
       "       [-1.34187035e-01, -1.46333056e+00,  1.15564042e+00,\n",
       "         3.05184052e-01, -4.06474004e-01,  2.83073235e-01,\n",
       "        -1.10437936e+00],\n",
       "       [ 1.41939215e+00,  8.66711042e-01,  1.09226504e-02,\n",
       "        -5.76377810e-01, -1.09143603e+00,  4.90977101e-01,\n",
       "        -1.96762194e-01],\n",
       "       [ 1.45966589e-01,  8.66711042e-01, -3.87994146e-01,\n",
       "        -4.62704773e-01,  2.78488020e-01, -3.35019342e-01,\n",
       "         2.07058836e-01],\n",
       "       [-6.26578253e-01,  2.84200555e-01, -1.23786037e+00,\n",
       "        -5.49836188e-01,  2.78488020e-01,  9.25247340e-01,\n",
       "         6.34403421e-01],\n",
       "       [ 1.27507059e+00, -1.17207549e+00, -1.22051616e+00,\n",
       "         8.94502156e-01, -4.06474004e-01, -4.88338410e-01,\n",
       "        -1.42390765e+00],\n",
       "       [-2.36061080e-01, -2.98309932e-01,  2.01417874e+00,\n",
       "        -5.35349006e-01, -6.39929919e-02,  1.11870229e+00,\n",
       "         6.79490235e-01],\n",
       "       [ 7.65700363e-01, -1.17207549e+00, -1.27254878e+00,\n",
       "        -8.13064778e-01,  9.63450044e-01, -9.53914637e-01,\n",
       "         1.90069602e-01],\n",
       "       [ 9.43979942e-01,  1.44922118e+00,  1.50252459e+00,\n",
       "        -6.02365780e-01,  1.64841207e+00,  1.11291661e-01,\n",
       "         4.23998289e-01],\n",
       "       [ 1.03519070e-01, -2.98309932e-01, -1.02972986e+00,\n",
       "        -7.85742518e-01,  1.64841207e+00,  4.01875444e-01,\n",
       "         5.81475422e-01],\n",
       "       [ 8.33616393e-01, -7.05451341e-03,  1.31173829e+00,\n",
       "        -7.60600512e-01,  1.99089308e+00,  9.99900080e-01,\n",
       "         4.17463968e-01],\n",
       "       [ 5.87420784e-01,  5.75455624e-01, -6.30813066e-01,\n",
       "        -6.55388884e-01, -1.09143603e+00,  4.23548820e-01,\n",
       "        -2.44462736e-01],\n",
       "       [-1.25697531e-01, -7.05451341e-03,  2.45069466e-01,\n",
       "         8.98428215e-01, -4.06474004e-01, -4.89943845e-01,\n",
       "        -1.42652138e+00],\n",
       "       [-1.00860592e+00, -2.98309932e-01, -4.22682564e-01,\n",
       "        -7.37116118e-01,  9.63450044e-01, -1.66448640e-01,\n",
       "         5.43576361e-01],\n",
       "       [ 1.52126620e+00,  5.75455624e-01, -3.44633625e-01,\n",
       "        -6.25846878e-01,  2.78488020e-01,  1.01996802e+00,\n",
       "         6.06305841e-01],\n",
       "       [ 1.26658108e+00, -5.89565000e-01, -4.22682564e-01,\n",
       "        -4.62704773e-01,  2.78488020e-01, -3.35019342e-01,\n",
       "         2.07058836e-01],\n",
       "       [-1.47552863e+00,  2.84200555e-01, -6.65501483e-01,\n",
       "        -6.36199356e-01,  2.78488020e-01, -1.07512500e+00,\n",
       "         3.22062884e-01],\n",
       "       [-9.49179395e-01,  1.15796611e+00,  4.27183656e-01,\n",
       "         2.31577894e+00, -1.43391704e+00, -1.72532628e+00,\n",
       "        -2.07603288e+00],\n",
       "       [ 1.03736448e+00,  8.66711042e-01,  9.12821495e-01,\n",
       "        -6.99970840e-01,  6.20969032e-01,  5.60813535e-01,\n",
       "         6.63807865e-01],\n",
       "       [-1.08501146e+00, -7.05451341e-03, -3.70649938e-01,\n",
       "         2.42357471e+00, -1.43391704e+00, -2.22943295e+00,\n",
       "        -1.98585925e+00],\n",
       "       [ 3.15756664e-01, -2.98309932e-01, -4.57370981e-01,\n",
       "        -2.69238827e-01, -1.43391704e+00,  5.90514088e-01,\n",
       "        -5.89474878e-01],\n",
       "       [ 6.12889295e-01,  8.66711042e-01, -4.22682564e-01,\n",
       "        -7.21683482e-01, -1.09143603e+00,  3.52106951e-01,\n",
       "        -2.84975525e-01],\n",
       "       [ 1.38543414e+00,  8.66711042e-01,  1.49385248e+00,\n",
       "        -3.64687489e-01,  9.63450044e-01,  7.87179908e-01,\n",
       "         1.60665158e-01]])"
      ]
     },
     "execution_count": 26,
     "metadata": {},
     "output_type": "execute_result"
    }
   ],
   "source": [
    "x_test"
   ]
  },
  {
   "cell_type": "code",
   "execution_count": 27,
   "id": "6595c4b3",
   "metadata": {},
   "outputs": [],
   "source": [
    "#train the model with 70% of data with linear Regression\n",
    "from sklearn.linear_model import LinearRegression\n",
    "#making object\n",
    "lr=LinearRegression()"
   ]
  },
  {
   "cell_type": "code",
   "execution_count": 28,
   "id": "dc77f519",
   "metadata": {},
   "outputs": [
    {
     "data": {
      "text/html": [
       "<style>#sk-container-id-1 {color: black;background-color: white;}#sk-container-id-1 pre{padding: 0;}#sk-container-id-1 div.sk-toggleable {background-color: white;}#sk-container-id-1 label.sk-toggleable__label {cursor: pointer;display: block;width: 100%;margin-bottom: 0;padding: 0.3em;box-sizing: border-box;text-align: center;}#sk-container-id-1 label.sk-toggleable__label-arrow:before {content: \"▸\";float: left;margin-right: 0.25em;color: #696969;}#sk-container-id-1 label.sk-toggleable__label-arrow:hover:before {color: black;}#sk-container-id-1 div.sk-estimator:hover label.sk-toggleable__label-arrow:before {color: black;}#sk-container-id-1 div.sk-toggleable__content {max-height: 0;max-width: 0;overflow: hidden;text-align: left;background-color: #f0f8ff;}#sk-container-id-1 div.sk-toggleable__content pre {margin: 0.2em;color: black;border-radius: 0.25em;background-color: #f0f8ff;}#sk-container-id-1 input.sk-toggleable__control:checked~div.sk-toggleable__content {max-height: 200px;max-width: 100%;overflow: auto;}#sk-container-id-1 input.sk-toggleable__control:checked~label.sk-toggleable__label-arrow:before {content: \"▾\";}#sk-container-id-1 div.sk-estimator input.sk-toggleable__control:checked~label.sk-toggleable__label {background-color: #d4ebff;}#sk-container-id-1 div.sk-label input.sk-toggleable__control:checked~label.sk-toggleable__label {background-color: #d4ebff;}#sk-container-id-1 input.sk-hidden--visually {border: 0;clip: rect(1px 1px 1px 1px);clip: rect(1px, 1px, 1px, 1px);height: 1px;margin: -1px;overflow: hidden;padding: 0;position: absolute;width: 1px;}#sk-container-id-1 div.sk-estimator {font-family: monospace;background-color: #f0f8ff;border: 1px dotted black;border-radius: 0.25em;box-sizing: border-box;margin-bottom: 0.5em;}#sk-container-id-1 div.sk-estimator:hover {background-color: #d4ebff;}#sk-container-id-1 div.sk-parallel-item::after {content: \"\";width: 100%;border-bottom: 1px solid gray;flex-grow: 1;}#sk-container-id-1 div.sk-label:hover label.sk-toggleable__label {background-color: #d4ebff;}#sk-container-id-1 div.sk-serial::before {content: \"\";position: absolute;border-left: 1px solid gray;box-sizing: border-box;top: 0;bottom: 0;left: 50%;z-index: 0;}#sk-container-id-1 div.sk-serial {display: flex;flex-direction: column;align-items: center;background-color: white;padding-right: 0.2em;padding-left: 0.2em;position: relative;}#sk-container-id-1 div.sk-item {position: relative;z-index: 1;}#sk-container-id-1 div.sk-parallel {display: flex;align-items: stretch;justify-content: center;background-color: white;position: relative;}#sk-container-id-1 div.sk-item::before, #sk-container-id-1 div.sk-parallel-item::before {content: \"\";position: absolute;border-left: 1px solid gray;box-sizing: border-box;top: 0;bottom: 0;left: 50%;z-index: -1;}#sk-container-id-1 div.sk-parallel-item {display: flex;flex-direction: column;z-index: 1;position: relative;background-color: white;}#sk-container-id-1 div.sk-parallel-item:first-child::after {align-self: flex-end;width: 50%;}#sk-container-id-1 div.sk-parallel-item:last-child::after {align-self: flex-start;width: 50%;}#sk-container-id-1 div.sk-parallel-item:only-child::after {width: 0;}#sk-container-id-1 div.sk-dashed-wrapped {border: 1px dashed gray;margin: 0 0.4em 0.5em 0.4em;box-sizing: border-box;padding-bottom: 0.4em;background-color: white;}#sk-container-id-1 div.sk-label label {font-family: monospace;font-weight: bold;display: inline-block;line-height: 1.2em;}#sk-container-id-1 div.sk-label-container {text-align: center;}#sk-container-id-1 div.sk-container {/* jupyter's `normalize.less` sets `[hidden] { display: none; }` but bootstrap.min.css set `[hidden] { display: none !important; }` so we also need the `!important` here to be able to override the default hidden behavior on the sphinx rendered scikit-learn.org. See: https://github.com/scikit-learn/scikit-learn/issues/21755 */display: inline-block !important;position: relative;}#sk-container-id-1 div.sk-text-repr-fallback {display: none;}</style><div id=\"sk-container-id-1\" class=\"sk-top-container\"><div class=\"sk-text-repr-fallback\"><pre>LinearRegression()</pre><b>In a Jupyter environment, please rerun this cell to show the HTML representation or trust the notebook. <br />On GitHub, the HTML representation is unable to render, please try loading this page with nbviewer.org.</b></div><div class=\"sk-container\" hidden><div class=\"sk-item\"><div class=\"sk-estimator sk-toggleable\"><input class=\"sk-toggleable__control sk-hidden--visually\" id=\"sk-estimator-id-1\" type=\"checkbox\" checked><label for=\"sk-estimator-id-1\" class=\"sk-toggleable__label sk-toggleable__label-arrow\">LinearRegression</label><div class=\"sk-toggleable__content\"><pre>LinearRegression()</pre></div></div></div></div></div>"
      ],
      "text/plain": [
       "LinearRegression()"
      ]
     },
     "execution_count": 28,
     "metadata": {},
     "output_type": "execute_result"
    }
   ],
   "source": [
    "lr.fit(x_train,y_train)"
   ]
  },
  {
   "cell_type": "code",
   "execution_count": 29,
   "id": "a8427c66",
   "metadata": {},
   "outputs": [
    {
     "name": "stdout",
     "output_type": "stream",
     "text": [
      "the coef is [-0.48933322  1.14727938 -2.65485678 -5.23470418  3.4581089   2.74801764\n",
      " -0.07029382]\n"
     ]
    }
   ],
   "source": [
    "#find coef_\n",
    "print(\"the coef is\",lr.coef_)"
   ]
  },
  {
   "cell_type": "code",
   "execution_count": 30,
   "id": "488d7c9c",
   "metadata": {},
   "outputs": [
    {
     "name": "stdout",
     "output_type": "stream",
     "text": [
      "the intercept is 37.93702422145333\n"
     ]
    }
   ],
   "source": [
    "#find intercept_\n",
    "print(\"the intercept is\",lr.intercept_)"
   ]
  },
  {
   "cell_type": "code",
   "execution_count": 31,
   "id": "5fd23ea3",
   "metadata": {},
   "outputs": [],
   "source": [
    "y_pred=lr.predict(x_test)"
   ]
  },
  {
   "cell_type": "code",
   "execution_count": 32,
   "id": "90fcbb71",
   "metadata": {},
   "outputs": [
    {
     "data": {
      "text/plain": [
       "array([32.99263934, 46.91183258, 22.623479  , 13.64459133, 42.00474238,\n",
       "       32.57621739, 30.12578152, 43.53722086, 37.71376787, 14.53028232,\n",
       "       12.8498569 , 38.73981065, 31.00463405, 43.83565372, 50.25242555,\n",
       "       34.76666826, 42.50453784, 44.30816688, 30.34584705, 43.05528227,\n",
       "       50.46217552, 28.96575403, 39.89909954, 46.02068275, 45.72536038,\n",
       "       28.10067185, 31.91350236, 46.44178534, 46.41124565, 14.87755503,\n",
       "       33.29365461, 34.40169521, 41.05953408, 43.09577403, 48.07009255,\n",
       "       13.92547722, 40.76087293, 40.77159657, 37.51190547, 14.13166071,\n",
       "       40.35008156, 24.47842488, 53.23804982, 35.13581576, 33.07860957,\n",
       "       37.69603633, 29.87207878, 38.52756866, 44.42432764, 33.10542577,\n",
       "       12.10274539, 44.42175661, 44.75247225, 13.77053097, 49.44739634,\n",
       "       42.18702736, 41.83155806, 38.73606032, 37.09278385, 39.82198126,\n",
       "       24.12965132, 39.23534151, 33.69944308, 13.04478763, 38.76424115,\n",
       "       44.64252821, 39.19369144, 46.97196322, 15.32645255, 38.34416625,\n",
       "       46.1912934 , 10.47433809, 33.85188806, 38.3648007 , 48.80392161,\n",
       "       37.21564859, 35.71759412, 37.49067501, 38.90412017, 46.94418276,\n",
       "       44.60141569, 39.80518403, 45.84963823, 39.63036026, 44.10152648,\n",
       "       52.97349179, 46.45285576, 35.18688045, 48.95828968, 16.97042311,\n",
       "       31.82407977, 49.16896492, 40.29469845, 31.45638971, 48.08230461,\n",
       "       39.80611787, 28.33752872, 39.58060091, 49.72498336, 40.06455943,\n",
       "       33.52352613, 46.03200709, 29.35301164, 31.10811932, 38.81373772,\n",
       "       42.33999701, 48.19530226, 31.87873118, 37.97048444, 44.54921213,\n",
       "       44.27839958, 51.15491415, 47.62317893, 40.82207257, 29.98507837,\n",
       "       45.90517158, 45.76721516, 40.21298042, 42.06817379, 16.91953466,\n",
       "       43.30633941, 15.81161995, 36.76944752, 40.74476153, 41.6801174 ])"
      ]
     },
     "execution_count": 32,
     "metadata": {},
     "output_type": "execute_result"
    }
   ],
   "source": [
    "y_pred"
   ]
  },
  {
   "cell_type": "code",
   "execution_count": 33,
   "id": "084beb59",
   "metadata": {},
   "outputs": [],
   "source": [
    "dict={\"actual output\":y_test,\"predicted output\":y_pred}"
   ]
  },
  {
   "cell_type": "code",
   "execution_count": 34,
   "id": "89e2e0bd",
   "metadata": {},
   "outputs": [],
   "source": [
    "pre=pd.DataFrame(dict)"
   ]
  },
  {
   "cell_type": "code",
   "execution_count": 35,
   "id": "343b59c9",
   "metadata": {},
   "outputs": [
    {
     "data": {
      "text/html": [
       "<div>\n",
       "<style scoped>\n",
       "    .dataframe tbody tr th:only-of-type {\n",
       "        vertical-align: middle;\n",
       "    }\n",
       "\n",
       "    .dataframe tbody tr th {\n",
       "        vertical-align: top;\n",
       "    }\n",
       "\n",
       "    .dataframe thead th {\n",
       "        text-align: right;\n",
       "    }\n",
       "</style>\n",
       "<table border=\"1\" class=\"dataframe\">\n",
       "  <thead>\n",
       "    <tr style=\"text-align: right;\">\n",
       "      <th></th>\n",
       "      <th>actual output</th>\n",
       "      <th>predicted output</th>\n",
       "    </tr>\n",
       "  </thead>\n",
       "  <tbody>\n",
       "    <tr>\n",
       "      <th>388</th>\n",
       "      <td>27.3</td>\n",
       "      <td>32.992639</td>\n",
       "    </tr>\n",
       "    <tr>\n",
       "      <th>102</th>\n",
       "      <td>54.4</td>\n",
       "      <td>46.911833</td>\n",
       "    </tr>\n",
       "    <tr>\n",
       "      <th>187</th>\n",
       "      <td>22.0</td>\n",
       "      <td>22.623479</td>\n",
       "    </tr>\n",
       "    <tr>\n",
       "      <th>162</th>\n",
       "      <td>11.6</td>\n",
       "      <td>13.644591</td>\n",
       "    </tr>\n",
       "    <tr>\n",
       "      <th>90</th>\n",
       "      <td>45.4</td>\n",
       "      <td>42.004742</td>\n",
       "    </tr>\n",
       "    <tr>\n",
       "      <th>...</th>\n",
       "      <td>...</td>\n",
       "      <td>...</td>\n",
       "    </tr>\n",
       "    <tr>\n",
       "      <th>323</th>\n",
       "      <td>42.5</td>\n",
       "      <td>43.306339</td>\n",
       "    </tr>\n",
       "    <tr>\n",
       "      <th>73</th>\n",
       "      <td>20.0</td>\n",
       "      <td>15.811620</td>\n",
       "    </tr>\n",
       "    <tr>\n",
       "      <th>238</th>\n",
       "      <td>40.6</td>\n",
       "      <td>36.769448</td>\n",
       "    </tr>\n",
       "    <tr>\n",
       "      <th>273</th>\n",
       "      <td>29.3</td>\n",
       "      <td>40.744762</td>\n",
       "    </tr>\n",
       "    <tr>\n",
       "      <th>364</th>\n",
       "      <td>33.1</td>\n",
       "      <td>41.680117</td>\n",
       "    </tr>\n",
       "  </tbody>\n",
       "</table>\n",
       "<p>125 rows × 2 columns</p>\n",
       "</div>"
      ],
      "text/plain": [
       "     actual output  predicted output\n",
       "388           27.3         32.992639\n",
       "102           54.4         46.911833\n",
       "187           22.0         22.623479\n",
       "162           11.6         13.644591\n",
       "90            45.4         42.004742\n",
       "..             ...               ...\n",
       "323           42.5         43.306339\n",
       "73            20.0         15.811620\n",
       "238           40.6         36.769448\n",
       "273           29.3         40.744762\n",
       "364           33.1         41.680117\n",
       "\n",
       "[125 rows x 2 columns]"
      ]
     },
     "execution_count": 35,
     "metadata": {},
     "output_type": "execute_result"
    }
   ],
   "source": [
    "pre"
   ]
  },
  {
   "cell_type": "code",
   "execution_count": 36,
   "id": "63408058",
   "metadata": {},
   "outputs": [
    {
     "data": {
      "text/plain": [
       "0.6043536507878502"
      ]
     },
     "execution_count": 36,
     "metadata": {},
     "output_type": "execute_result"
    }
   ],
   "source": [
    "#check model is overfit ya underfit\n",
    "lr.score(x_train,y_train)"
   ]
  },
  {
   "cell_type": "code",
   "execution_count": 37,
   "id": "d170a036",
   "metadata": {},
   "outputs": [
    {
     "data": {
      "text/plain": [
       "0.5420501524352717"
      ]
     },
     "execution_count": 37,
     "metadata": {},
     "output_type": "execute_result"
    }
   ],
   "source": [
    "lr.score(x_test,y_test)"
   ]
  },
  {
   "cell_type": "code",
   "execution_count": 38,
   "id": "0cc9d6b3",
   "metadata": {},
   "outputs": [],
   "source": [
    "#the model is overfit\n",
    "#we go for regulization lasso and ridge"
   ]
  },
  {
   "cell_type": "code",
   "execution_count": 39,
   "id": "3ca01898",
   "metadata": {},
   "outputs": [],
   "source": [
    "from sklearn.linear_model import Lasso"
   ]
  },
  {
   "cell_type": "code",
   "execution_count": 40,
   "id": "935672e5",
   "metadata": {},
   "outputs": [
    {
     "name": "stdout",
     "output_type": "stream",
     "text": [
      "the value of lambda is 200\n",
      "the training score is 0.0\n",
      "the testing score is -8.87146655079718e-05\n",
      "the value of lambda is 250\n",
      "the training score is 0.0\n",
      "the testing score is -8.87146655079718e-05\n",
      "the value of lambda is 300\n",
      "the training score is 0.0\n",
      "the testing score is -8.87146655079718e-05\n",
      "the value of lambda is 350\n",
      "the training score is 0.0\n",
      "the testing score is -8.87146655079718e-05\n",
      "the value of lambda is 400\n",
      "the training score is 0.0\n",
      "the testing score is -8.87146655079718e-05\n",
      "the value of lambda is 450\n",
      "the training score is 0.0\n",
      "the testing score is -8.87146655079718e-05\n",
      "the value of lambda is 500\n",
      "the training score is 0.0\n",
      "the testing score is -8.87146655079718e-05\n",
      "the value of lambda is 550\n",
      "the training score is 0.0\n",
      "the testing score is -8.87146655079718e-05\n",
      "the value of lambda is 600\n",
      "the training score is 0.0\n",
      "the testing score is -8.87146655079718e-05\n",
      "the value of lambda is 650\n",
      "the training score is 0.0\n",
      "the testing score is -8.87146655079718e-05\n",
      "the value of lambda is 700\n",
      "the training score is 0.0\n",
      "the testing score is -8.87146655079718e-05\n",
      "the value of lambda is 750\n",
      "the training score is 0.0\n",
      "the testing score is -8.87146655079718e-05\n",
      "the value of lambda is 800\n",
      "the training score is 0.0\n",
      "the testing score is -8.87146655079718e-05\n",
      "the value of lambda is 850\n",
      "the training score is 0.0\n",
      "the testing score is -8.87146655079718e-05\n",
      "the value of lambda is 900\n",
      "the training score is 0.0\n",
      "the testing score is -8.87146655079718e-05\n",
      "the value of lambda is 950\n",
      "the training score is 0.0\n",
      "the testing score is -8.87146655079718e-05\n",
      "the value of lambda is 1000\n",
      "the training score is 0.0\n",
      "the testing score is -8.87146655079718e-05\n"
     ]
    }
   ],
   "source": [
    "for i in range(200,1001,50):\n",
    "    l1=Lasso(i)\n",
    "    l1.fit(x_train,y_train)\n",
    "    print(\"the value of lambda is\",i)\n",
    "    print(\"the training score is\",l1.score(x_train,y_train))\n",
    "    print(\"the testing score is\",l1.score(x_test,y_test))"
   ]
  },
  {
   "cell_type": "code",
   "execution_count": 41,
   "id": "be0988c3",
   "metadata": {},
   "outputs": [
    {
     "data": {
      "text/plain": [
       "array([-0.,  0., -0., -0.,  0.,  0.,  0.])"
      ]
     },
     "execution_count": 41,
     "metadata": {},
     "output_type": "execute_result"
    }
   ],
   "source": [
    "l1.coef_"
   ]
  },
  {
   "cell_type": "code",
   "execution_count": 42,
   "id": "f8b4e675",
   "metadata": {},
   "outputs": [],
   "source": [
    "from sklearn.linear_model import Ridge"
   ]
  },
  {
   "cell_type": "code",
   "execution_count": 43,
   "id": "b054ac94",
   "metadata": {},
   "outputs": [
    {
     "name": "stdout",
     "output_type": "stream",
     "text": [
      "the value of lamda is 0\n",
      "the training score is 0.6043536507878503\n",
      "the testing score is 0.5420501524352717\n",
      "the value of lamda is 1\n",
      "the training score is 0.6043472789322923\n",
      "the testing score is 0.5417017478251174\n",
      "the value of lamda is 2\n",
      "the training score is 0.6043289793983577\n",
      "the testing score is 0.5413530139457242\n",
      "the value of lamda is 3\n",
      "the training score is 0.6042998629231624\n",
      "the testing score is 0.5410043364330132\n",
      "the value of lamda is 4\n",
      "the training score is 0.6042609060464152\n",
      "the testing score is 0.5406560333074559\n",
      "the value of lamda is 5\n",
      "the training score is 0.6042129694918652\n",
      "the testing score is 0.5403083657223033\n",
      "the value of lamda is 6\n",
      "the training score is 0.6041568137557466\n",
      "the testing score is 0.5399615469439172\n",
      "the value of lamda is 7\n",
      "the training score is 0.6040931123685775\n",
      "the testing score is 0.539615749874313\n",
      "the value of lamda is 8\n",
      "the training score is 0.6040224632118129\n",
      "the testing score is 0.5392711133676849\n",
      "the value of lamda is 9\n",
      "the training score is 0.6039453982027108\n",
      "the testing score is 0.5389277475460701\n",
      "the value of lamda is 10\n",
      "the training score is 0.6038623916057695\n",
      "the testing score is 0.5385857382819726\n",
      "the value of lamda is 11\n",
      "the training score is 0.6037738671845335\n",
      "the testing score is 0.5382451509856655\n",
      "the value of lamda is 12\n",
      "the training score is 0.6036802043713196\n",
      "the testing score is 0.5379060338105885\n",
      "the value of lamda is 13\n",
      "the training score is 0.6035817436028006\n",
      "the testing score is 0.537568420370528\n",
      "the value of lamda is 14\n",
      "the training score is 0.6034787909451218\n",
      "the testing score is 0.5372323320462062\n",
      "the value of lamda is 15\n",
      "the training score is 0.6033716221122599\n",
      "the testing score is 0.5368977799457805\n",
      "the value of lamda is 16\n",
      "the training score is 0.6032604859648526\n",
      "the testing score is 0.5365647665730093\n",
      "the value of lamda is 17\n",
      "the training score is 0.6031456075630781\n",
      "the testing score is 0.5362332872479827\n",
      "the value of lamda is 18\n",
      "the training score is 0.6030271908358258\n",
      "the testing score is 0.535903331318034\n",
      "the value of lamda is 19\n",
      "the training score is 0.6029054209189472\n",
      "the testing score is 0.5355748831904112\n",
      "the value of lamda is 20\n",
      "the training score is 0.6027804662074767\n",
      "the testing score is 0.5352479232132774\n",
      "the value of lamda is 21\n",
      "the training score is 0.6026524801600908\n",
      "the testing score is 0.5349224284274595\n",
      "the value of lamda is 22\n",
      "the training score is 0.6025216028885074\n",
      "the testing score is 0.534598373207881\n",
      "the value of lamda is 23\n",
      "the training score is 0.6023879625598361\n",
      "the testing score is 0.5342757298107241\n",
      "the value of lamda is 24\n",
      "the training score is 0.6022516766359243\n",
      "the testing score is 0.53395446883993\n",
      "the value of lamda is 25\n",
      "the training score is 0.6021128529703914\n",
      "the testing score is 0.5336345596446043\n",
      "the value of lamda is 26\n",
      "the training score is 0.6019715907811845\n",
      "the testing score is 0.5333159706571833\n",
      "the value of lamda is 27\n",
      "the training score is 0.6018279815140675\n",
      "the testing score is 0.5329986696807594\n",
      "the value of lamda is 28\n",
      "the training score is 0.6016821096103833\n",
      "the testing score is 0.5326826241327429\n",
      "the value of lamda is 29\n",
      "the training score is 0.6015340531906589\n",
      "the testing score is 0.5323678012510029\n",
      "the value of lamda is 30\n",
      "the training score is 0.6013838846641049\n",
      "the testing score is 0.5320541682677444\n",
      "the value of lamda is 31\n",
      "the training score is 0.6012316712727646\n",
      "the testing score is 0.5317416925556371\n",
      "the value of lamda is 32\n",
      "the training score is 0.601077475577938\n",
      "the testing score is 0.5314303417500665\n",
      "the value of lamda is 33\n",
      "the training score is 0.6009213558955535\n",
      "the testing score is 0.5311200838508476\n",
      "the value of lamda is 34\n",
      "the training score is 0.6007633666863131\n",
      "the testing score is 0.5308108873062596\n",
      "the value of lamda is 35\n",
      "the training score is 0.6006035589057261\n",
      "the testing score is 0.530502721081884\n",
      "the value of lamda is 36\n",
      "the training score is 0.6004419803185157\n",
      "the testing score is 0.5301955547163686\n",
      "the value of lamda is 37\n",
      "the training score is 0.6002786757813421\n",
      "the testing score is 0.5298893583659651\n",
      "the value of lamda is 38\n",
      "the training score is 0.6001136874973128\n",
      "the testing score is 0.529584102839423\n",
      "the value of lamda is 39\n",
      "the training score is 0.5999470552453411\n",
      "the testing score is 0.5292797596246195\n",
      "the value of lamda is 40\n",
      "the training score is 0.5997788165870546\n",
      "the testing score is 0.5289763009081087\n",
      "the value of lamda is 41\n",
      "the training score is 0.5996090070536397\n",
      "the testing score is 0.5286736995886228\n",
      "the value of lamda is 42\n",
      "the training score is 0.5994376603147389\n",
      "the testing score is 0.5283719292854113\n",
      "the value of lamda is 43\n",
      "the training score is 0.5992648083312724\n",
      "the testing score is 0.5280709643421917\n",
      "the value of lamda is 44\n",
      "the training score is 0.599090481493847\n",
      "the testing score is 0.5277707798273757\n",
      "the value of lamda is 45\n",
      "the training score is 0.5989147087482312\n",
      "the testing score is 0.5274713515311538\n",
      "the value of lamda is 46\n",
      "the training score is 0.598737517709206\n",
      "the testing score is 0.5271726559599329\n",
      "the value of lamda is 47\n",
      "the training score is 0.5985589347639673\n",
      "the testing score is 0.5268746703285656\n",
      "the value of lamda is 48\n",
      "the training score is 0.5983789851661176\n",
      "the testing score is 0.5265773725507408\n",
      "the value of lamda is 49\n",
      "the training score is 0.5981976931211836\n",
      "the testing score is 0.5262807412278663\n",
      "the value of lamda is 50\n",
      "the training score is 0.5980150818644858\n",
      "the testing score is 0.5259847556367176\n"
     ]
    }
   ],
   "source": [
    "for i in range(0,51):\n",
    "    l2=Ridge(i)\n",
    "    l2.fit(x_train,y_train)\n",
    "    print(\"the value of lamda is\",i)\n",
    "    print(\"the training score is\",l2.score(x_train,y_train))\n",
    "    print(\"the testing score is\",l2.score(x_test,y_test))"
   ]
  },
  {
   "cell_type": "code",
   "execution_count": 44,
   "id": "b2aec0c0",
   "metadata": {},
   "outputs": [],
   "source": [
    "from sklearn.model_selection import cross_val_score"
   ]
  },
  {
   "cell_type": "code",
   "execution_count": 45,
   "id": "1ed73187",
   "metadata": {},
   "outputs": [],
   "source": [
    "l1=Lasso(200)"
   ]
  },
  {
   "cell_type": "code",
   "execution_count": 46,
   "id": "6c11ad61",
   "metadata": {},
   "outputs": [],
   "source": [
    "x=ss.fit_transform(x)"
   ]
  },
  {
   "cell_type": "code",
   "execution_count": 47,
   "id": "ee825964",
   "metadata": {},
   "outputs": [],
   "source": [
    "l1_cross=cross_val_score(l1,x,y,cv=4)"
   ]
  },
  {
   "cell_type": "code",
   "execution_count": 48,
   "id": "148d9723",
   "metadata": {},
   "outputs": [
    {
     "data": {
      "text/plain": [
       "array([-3.98495388e-03, -7.46471567e-05, -3.58774107e-03, -1.47344069e-04])"
      ]
     },
     "execution_count": 48,
     "metadata": {},
     "output_type": "execute_result"
    }
   ],
   "source": [
    "l1_cross"
   ]
  },
  {
   "cell_type": "code",
   "execution_count": 49,
   "id": "832964c8",
   "metadata": {},
   "outputs": [
    {
     "data": {
      "text/plain": [
       "-0.001948671545313474"
      ]
     },
     "execution_count": 49,
     "metadata": {},
     "output_type": "execute_result"
    }
   ],
   "source": [
    "np.mean(l1_cross)"
   ]
  },
  {
   "cell_type": "code",
   "execution_count": 50,
   "id": "e1cbd0a6",
   "metadata": {},
   "outputs": [],
   "source": [
    "l2=Ridge(2)"
   ]
  },
  {
   "cell_type": "code",
   "execution_count": 51,
   "id": "6bed167e",
   "metadata": {},
   "outputs": [],
   "source": [
    "l2_cross=cross_val_score(l2,x,y,cv=4)"
   ]
  },
  {
   "cell_type": "code",
   "execution_count": 52,
   "id": "0a5e0fca",
   "metadata": {},
   "outputs": [
    {
     "data": {
      "text/plain": [
       "array([0.72726761, 0.53271652, 0.46150639, 0.57467036])"
      ]
     },
     "execution_count": 52,
     "metadata": {},
     "output_type": "execute_result"
    }
   ],
   "source": [
    "l2_cross"
   ]
  },
  {
   "cell_type": "code",
   "execution_count": 53,
   "id": "7c5d5828",
   "metadata": {},
   "outputs": [
    {
     "data": {
      "text/plain": [
       "0.5740402197697207"
      ]
     },
     "execution_count": 53,
     "metadata": {},
     "output_type": "execute_result"
    }
   ],
   "source": [
    "np.mean(l2_cross)"
   ]
  },
  {
   "cell_type": "code",
   "execution_count": 54,
   "id": "e9107bbf",
   "metadata": {},
   "outputs": [],
   "source": [
    "from sklearn.preprocessing import PolynomialFeatures"
   ]
  },
  {
   "cell_type": "code",
   "execution_count": 55,
   "id": "09f1b951",
   "metadata": {},
   "outputs": [],
   "source": [
    "x=df.drop(\"Price\",axis=1)\n",
    "y=df[\"Price\"]"
   ]
  },
  {
   "cell_type": "code",
   "execution_count": 56,
   "id": "21509702",
   "metadata": {},
   "outputs": [],
   "source": [
    "pf=PolynomialFeatures(2)"
   ]
  },
  {
   "cell_type": "code",
   "execution_count": 57,
   "id": "16aaba5c",
   "metadata": {},
   "outputs": [],
   "source": [
    "x_poly=pf.fit_transform(x)"
   ]
  },
  {
   "cell_type": "code",
   "execution_count": 58,
   "id": "11f46529",
   "metadata": {},
   "outputs": [],
   "source": [
    "x_train,x_test,y_train,y_test=train_test_split(x_poly,y,test_size=0.3,random_state=1)"
   ]
  },
  {
   "cell_type": "code",
   "execution_count": 59,
   "id": "c019eed0",
   "metadata": {},
   "outputs": [],
   "source": [
    "x_train=ss.fit_transform(x_train)"
   ]
  },
  {
   "cell_type": "code",
   "execution_count": 60,
   "id": "f4ae9565",
   "metadata": {},
   "outputs": [],
   "source": [
    "x_test=ss.transform(x_test)"
   ]
  },
  {
   "cell_type": "code",
   "execution_count": 61,
   "id": "64e363b4",
   "metadata": {},
   "outputs": [
    {
     "data": {
      "text/plain": [
       "array([[ 0.        ,  0.6213788 , -0.00705451, ...,  0.29892562,\n",
       "         0.35503531,  0.37497085],\n",
       "       [ 0.        ,  0.59591029, -0.88082007, ...,  0.00990064,\n",
       "         0.1682124 ,  0.69912453],\n",
       "       [ 0.        , -0.87277386,  0.86671104, ...,  1.02006397,\n",
       "         1.0577102 ,  0.60632112],\n",
       "       ...,\n",
       "       [ 0.        ,  1.65709826, -1.75458562, ...,  0.21301662,\n",
       "         0.43656846,  1.07361693],\n",
       "       [ 0.        ,  0.29028815, -1.46333056, ..., -0.26222646,\n",
       "        -0.10587508,  0.57299058],\n",
       "       [ 0.        , -1.39063359, -0.00705451, ..., -1.38726825,\n",
       "        -1.0397319 ,  0.92917711]])"
      ]
     },
     "execution_count": 61,
     "metadata": {},
     "output_type": "execute_result"
    }
   ],
   "source": [
    "x_train"
   ]
  },
  {
   "cell_type": "code",
   "execution_count": 62,
   "id": "e9012b89",
   "metadata": {},
   "outputs": [
    {
     "data": {
      "text/plain": [
       "array([[ 0.        ,  1.58918223,  1.15796611, ..., -0.78309826,\n",
       "        -1.01327721, -1.35079409],\n",
       "       [ 0.        , -0.83881585, -0.29830993, ..., -0.29032007,\n",
       "        -0.16213642,  0.43705571],\n",
       "       [ 0.        , -0.11720803, -0.589565  , ..., -1.1786777 ,\n",
       "        -0.58623665,  2.09588151],\n",
       "       ...,\n",
       "       [ 0.        ,  0.31575666, -0.29830993, ...,  0.59040132,\n",
       "         0.39823343, -0.58956953],\n",
       "       [ 0.        ,  0.6128893 ,  0.86671104, ...,  0.35191805,\n",
       "         0.25258901, -0.28505927],\n",
       "       [ 0.        ,  1.38543414,  0.86671104, ...,  0.7871513 ,\n",
       "         0.74633378,  0.16061842]])"
      ]
     },
     "execution_count": 62,
     "metadata": {},
     "output_type": "execute_result"
    }
   ],
   "source": [
    "x_test"
   ]
  },
  {
   "cell_type": "code",
   "execution_count": 63,
   "id": "b0e4b6d7",
   "metadata": {},
   "outputs": [
    {
     "data": {
      "text/html": [
       "<style>#sk-container-id-2 {color: black;background-color: white;}#sk-container-id-2 pre{padding: 0;}#sk-container-id-2 div.sk-toggleable {background-color: white;}#sk-container-id-2 label.sk-toggleable__label {cursor: pointer;display: block;width: 100%;margin-bottom: 0;padding: 0.3em;box-sizing: border-box;text-align: center;}#sk-container-id-2 label.sk-toggleable__label-arrow:before {content: \"▸\";float: left;margin-right: 0.25em;color: #696969;}#sk-container-id-2 label.sk-toggleable__label-arrow:hover:before {color: black;}#sk-container-id-2 div.sk-estimator:hover label.sk-toggleable__label-arrow:before {color: black;}#sk-container-id-2 div.sk-toggleable__content {max-height: 0;max-width: 0;overflow: hidden;text-align: left;background-color: #f0f8ff;}#sk-container-id-2 div.sk-toggleable__content pre {margin: 0.2em;color: black;border-radius: 0.25em;background-color: #f0f8ff;}#sk-container-id-2 input.sk-toggleable__control:checked~div.sk-toggleable__content {max-height: 200px;max-width: 100%;overflow: auto;}#sk-container-id-2 input.sk-toggleable__control:checked~label.sk-toggleable__label-arrow:before {content: \"▾\";}#sk-container-id-2 div.sk-estimator input.sk-toggleable__control:checked~label.sk-toggleable__label {background-color: #d4ebff;}#sk-container-id-2 div.sk-label input.sk-toggleable__control:checked~label.sk-toggleable__label {background-color: #d4ebff;}#sk-container-id-2 input.sk-hidden--visually {border: 0;clip: rect(1px 1px 1px 1px);clip: rect(1px, 1px, 1px, 1px);height: 1px;margin: -1px;overflow: hidden;padding: 0;position: absolute;width: 1px;}#sk-container-id-2 div.sk-estimator {font-family: monospace;background-color: #f0f8ff;border: 1px dotted black;border-radius: 0.25em;box-sizing: border-box;margin-bottom: 0.5em;}#sk-container-id-2 div.sk-estimator:hover {background-color: #d4ebff;}#sk-container-id-2 div.sk-parallel-item::after {content: \"\";width: 100%;border-bottom: 1px solid gray;flex-grow: 1;}#sk-container-id-2 div.sk-label:hover label.sk-toggleable__label {background-color: #d4ebff;}#sk-container-id-2 div.sk-serial::before {content: \"\";position: absolute;border-left: 1px solid gray;box-sizing: border-box;top: 0;bottom: 0;left: 50%;z-index: 0;}#sk-container-id-2 div.sk-serial {display: flex;flex-direction: column;align-items: center;background-color: white;padding-right: 0.2em;padding-left: 0.2em;position: relative;}#sk-container-id-2 div.sk-item {position: relative;z-index: 1;}#sk-container-id-2 div.sk-parallel {display: flex;align-items: stretch;justify-content: center;background-color: white;position: relative;}#sk-container-id-2 div.sk-item::before, #sk-container-id-2 div.sk-parallel-item::before {content: \"\";position: absolute;border-left: 1px solid gray;box-sizing: border-box;top: 0;bottom: 0;left: 50%;z-index: -1;}#sk-container-id-2 div.sk-parallel-item {display: flex;flex-direction: column;z-index: 1;position: relative;background-color: white;}#sk-container-id-2 div.sk-parallel-item:first-child::after {align-self: flex-end;width: 50%;}#sk-container-id-2 div.sk-parallel-item:last-child::after {align-self: flex-start;width: 50%;}#sk-container-id-2 div.sk-parallel-item:only-child::after {width: 0;}#sk-container-id-2 div.sk-dashed-wrapped {border: 1px dashed gray;margin: 0 0.4em 0.5em 0.4em;box-sizing: border-box;padding-bottom: 0.4em;background-color: white;}#sk-container-id-2 div.sk-label label {font-family: monospace;font-weight: bold;display: inline-block;line-height: 1.2em;}#sk-container-id-2 div.sk-label-container {text-align: center;}#sk-container-id-2 div.sk-container {/* jupyter's `normalize.less` sets `[hidden] { display: none; }` but bootstrap.min.css set `[hidden] { display: none !important; }` so we also need the `!important` here to be able to override the default hidden behavior on the sphinx rendered scikit-learn.org. See: https://github.com/scikit-learn/scikit-learn/issues/21755 */display: inline-block !important;position: relative;}#sk-container-id-2 div.sk-text-repr-fallback {display: none;}</style><div id=\"sk-container-id-2\" class=\"sk-top-container\"><div class=\"sk-text-repr-fallback\"><pre>LinearRegression()</pre><b>In a Jupyter environment, please rerun this cell to show the HTML representation or trust the notebook. <br />On GitHub, the HTML representation is unable to render, please try loading this page with nbviewer.org.</b></div><div class=\"sk-container\" hidden><div class=\"sk-item\"><div class=\"sk-estimator sk-toggleable\"><input class=\"sk-toggleable__control sk-hidden--visually\" id=\"sk-estimator-id-2\" type=\"checkbox\" checked><label for=\"sk-estimator-id-2\" class=\"sk-toggleable__label sk-toggleable__label-arrow\">LinearRegression</label><div class=\"sk-toggleable__content\"><pre>LinearRegression()</pre></div></div></div></div></div>"
      ],
      "text/plain": [
       "LinearRegression()"
      ]
     },
     "execution_count": 63,
     "metadata": {},
     "output_type": "execute_result"
    }
   ],
   "source": [
    "lr.fit(x_train,y_train)"
   ]
  },
  {
   "cell_type": "code",
   "execution_count": 64,
   "id": "d51caea2",
   "metadata": {},
   "outputs": [
    {
     "name": "stdout",
     "output_type": "stream",
     "text": [
      "[-2.95978849e-07  1.29319133e+04 -3.19317188e+03  4.96967427e+03\n",
      "  8.74245812e+03  2.16865709e+04  4.60525244e+02 -3.21396243e+04\n",
      "  3.26094351e-01 -7.33504866e+02  1.82304689e+00 -9.74356446e-01\n",
      "  6.96610731e-01 -8.27941607e+02 -1.13722373e+04  2.51366743e+03\n",
      "  1.39864545e+03 -2.27037264e+03  1.05607286e+02 -5.00669797e+03\n",
      "  2.60539068e+03  1.03656177e+01 -1.78507675e-01 -4.63180814e-01\n",
      " -3.46676147e+02 -6.03493037e+03 -3.38615020e+00 -3.40089102e+00\n",
      " -8.54965900e+03  2.07796020e+03 -8.00710463e-01 -7.76972020e+03\n",
      " -1.40193338e+04  6.04084731e+03 -1.84436133e+03  3.07390923e+04]\n"
     ]
    }
   ],
   "source": [
    "print(lr.coef_)"
   ]
  },
  {
   "cell_type": "code",
   "execution_count": 65,
   "id": "f0030eac",
   "metadata": {},
   "outputs": [
    {
     "name": "stdout",
     "output_type": "stream",
     "text": [
      "37.9370242611708\n"
     ]
    }
   ],
   "source": [
    "print(lr.intercept_)"
   ]
  },
  {
   "cell_type": "code",
   "execution_count": 66,
   "id": "f469189e",
   "metadata": {},
   "outputs": [],
   "source": [
    "y_pred=lr.predict(x_test)"
   ]
  },
  {
   "cell_type": "code",
   "execution_count": 67,
   "id": "acb86595",
   "metadata": {},
   "outputs": [],
   "source": [
    "dict={\"actual output\":y_test,\"predict output\":y_pred}"
   ]
  },
  {
   "cell_type": "code",
   "execution_count": 68,
   "id": "df05ed11",
   "metadata": {},
   "outputs": [],
   "source": [
    "p=pd.DataFrame(dict)"
   ]
  },
  {
   "cell_type": "code",
   "execution_count": 69,
   "id": "79fad2f9",
   "metadata": {},
   "outputs": [
    {
     "data": {
      "text/html": [
       "<div>\n",
       "<style scoped>\n",
       "    .dataframe tbody tr th:only-of-type {\n",
       "        vertical-align: middle;\n",
       "    }\n",
       "\n",
       "    .dataframe tbody tr th {\n",
       "        vertical-align: top;\n",
       "    }\n",
       "\n",
       "    .dataframe thead th {\n",
       "        text-align: right;\n",
       "    }\n",
       "</style>\n",
       "<table border=\"1\" class=\"dataframe\">\n",
       "  <thead>\n",
       "    <tr style=\"text-align: right;\">\n",
       "      <th></th>\n",
       "      <th>actual output</th>\n",
       "      <th>predict output</th>\n",
       "    </tr>\n",
       "  </thead>\n",
       "  <tbody>\n",
       "    <tr>\n",
       "      <th>388</th>\n",
       "      <td>27.3</td>\n",
       "      <td>25.292909</td>\n",
       "    </tr>\n",
       "    <tr>\n",
       "      <th>102</th>\n",
       "      <td>54.4</td>\n",
       "      <td>53.156934</td>\n",
       "    </tr>\n",
       "    <tr>\n",
       "      <th>187</th>\n",
       "      <td>22.0</td>\n",
       "      <td>29.106847</td>\n",
       "    </tr>\n",
       "    <tr>\n",
       "      <th>162</th>\n",
       "      <td>11.6</td>\n",
       "      <td>16.849654</td>\n",
       "    </tr>\n",
       "    <tr>\n",
       "      <th>90</th>\n",
       "      <td>45.4</td>\n",
       "      <td>51.222074</td>\n",
       "    </tr>\n",
       "    <tr>\n",
       "      <th>...</th>\n",
       "      <td>...</td>\n",
       "      <td>...</td>\n",
       "    </tr>\n",
       "    <tr>\n",
       "      <th>323</th>\n",
       "      <td>42.5</td>\n",
       "      <td>44.745177</td>\n",
       "    </tr>\n",
       "    <tr>\n",
       "      <th>73</th>\n",
       "      <td>20.0</td>\n",
       "      <td>19.167234</td>\n",
       "    </tr>\n",
       "    <tr>\n",
       "      <th>238</th>\n",
       "      <td>40.6</td>\n",
       "      <td>38.694579</td>\n",
       "    </tr>\n",
       "    <tr>\n",
       "      <th>273</th>\n",
       "      <td>29.3</td>\n",
       "      <td>42.283131</td>\n",
       "    </tr>\n",
       "    <tr>\n",
       "      <th>364</th>\n",
       "      <td>33.1</td>\n",
       "      <td>42.057860</td>\n",
       "    </tr>\n",
       "  </tbody>\n",
       "</table>\n",
       "<p>125 rows × 2 columns</p>\n",
       "</div>"
      ],
      "text/plain": [
       "     actual output  predict output\n",
       "388           27.3       25.292909\n",
       "102           54.4       53.156934\n",
       "187           22.0       29.106847\n",
       "162           11.6       16.849654\n",
       "90            45.4       51.222074\n",
       "..             ...             ...\n",
       "323           42.5       44.745177\n",
       "73            20.0       19.167234\n",
       "238           40.6       38.694579\n",
       "273           29.3       42.283131\n",
       "364           33.1       42.057860\n",
       "\n",
       "[125 rows x 2 columns]"
      ]
     },
     "execution_count": 69,
     "metadata": {},
     "output_type": "execute_result"
    }
   ],
   "source": [
    "p"
   ]
  },
  {
   "cell_type": "code",
   "execution_count": 70,
   "id": "eaa6d519",
   "metadata": {},
   "outputs": [],
   "source": [
    "from sklearn.metrics import mean_squared_error"
   ]
  },
  {
   "cell_type": "code",
   "execution_count": 71,
   "id": "037d6399",
   "metadata": {},
   "outputs": [],
   "source": [
    "mse=mean_squared_error(y_test,y_pred)"
   ]
  },
  {
   "cell_type": "code",
   "execution_count": 72,
   "id": "cc1e9928",
   "metadata": {},
   "outputs": [
    {
     "data": {
      "text/plain": [
       "92.33634163682092"
      ]
     },
     "execution_count": 72,
     "metadata": {},
     "output_type": "execute_result"
    }
   ],
   "source": [
    "mse"
   ]
  },
  {
   "cell_type": "code",
   "execution_count": 73,
   "id": "8ee359cc",
   "metadata": {},
   "outputs": [],
   "source": [
    "rmse=np.sqrt(mse)"
   ]
  },
  {
   "cell_type": "code",
   "execution_count": 74,
   "id": "7fdd8fcc",
   "metadata": {},
   "outputs": [
    {
     "data": {
      "text/plain": [
       "9.6091800709957"
      ]
     },
     "execution_count": 74,
     "metadata": {},
     "output_type": "execute_result"
    }
   ],
   "source": [
    "rmse"
   ]
  },
  {
   "cell_type": "code",
   "execution_count": 75,
   "id": "3ecc0263",
   "metadata": {},
   "outputs": [],
   "source": [
    "from sklearn.metrics import r2_score"
   ]
  },
  {
   "cell_type": "code",
   "execution_count": 76,
   "id": "608b7f59",
   "metadata": {},
   "outputs": [
    {
     "name": "stdout",
     "output_type": "stream",
     "text": [
      "the r2 score is 0.5992780398580912\n"
     ]
    }
   ],
   "source": [
    "print(\"the r2 score is\",r2_score(y_test,y_pred))"
   ]
  },
  {
   "cell_type": "code",
   "execution_count": 77,
   "id": "2c6339fe",
   "metadata": {},
   "outputs": [
    {
     "name": "stdout",
     "output_type": "stream",
     "text": [
      "the residual_error 388     2.007091\n",
      "102     1.243066\n",
      "187    -7.106847\n",
      "162    -5.249654\n",
      "90     -5.822074\n",
      "         ...    \n",
      "323    -2.245177\n",
      "73      0.832766\n",
      "238     1.905421\n",
      "273   -12.983131\n",
      "364    -8.957860\n",
      "Name: Price, Length: 125, dtype: float64\n"
     ]
    }
   ],
   "source": [
    "residual_error=y_test-y_pred\n",
    "print(\"the residual_error\",residual_error)"
   ]
  },
  {
   "cell_type": "code",
   "execution_count": 78,
   "id": "944fd903",
   "metadata": {},
   "outputs": [],
   "source": [
    "#1 assumption"
   ]
  },
  {
   "cell_type": "code",
   "execution_count": 79,
   "id": "363efd87",
   "metadata": {},
   "outputs": [
    {
     "data": {
      "image/png": "[encoded data removed]",
      "text/plain": [
       "<Figure size 1000x1500 with 1 Axes>"
      ]
     },
     "metadata": {},
     "output_type": "display_data"
    }
   ],
   "source": [
    "plt.figure(figsize=(10,15))\n",
    "plt.plot(residual_error,y_pred)\n",
    "plt.scatter(residual_error,y_pred)\n",
    "plt.show()"
   ]
  },
  {
   "cell_type": "code",
   "execution_count": 80,
   "id": "ae913c4e",
   "metadata": {},
   "outputs": [
    {
     "data": {
      "image/png": "[encoded data removed]",
      "text/plain": [
       "<Figure size 2000x1000 with 1 Axes>"
      ]
     },
     "metadata": {},
     "output_type": "display_data"
    }
   ],
   "source": [
    "plt.figure(figsize=(20,10))\n",
    "sb.histplot(residual_error)\n",
    "plt.show()"
   ]
  },
  {
   "cell_type": "code",
   "execution_count": 81,
   "id": "b11ff8c9",
   "metadata": {},
   "outputs": [
    {
     "data": {
      "image/png": "[encoded data removed]",
      "text/plain": [
       "<Figure size 640x480 with 1 Axes>"
      ]
     },
     "metadata": {},
     "output_type": "display_data"
    }
   ],
   "source": [
    "sb.distplot(residual_error)\n",
    "plt.show()"
   ]
  },
  {
   "cell_type": "code",
   "execution_count": 82,
   "id": "bc117809",
   "metadata": {},
   "outputs": [
    {
     "name": "stdout",
     "output_type": "stream",
     "text": [
      "the skewness is 3.853820661462529\n"
     ]
    }
   ],
   "source": [
    "print(\"the skewness is\",residual_error.skew())"
   ]
  },
  {
   "cell_type": "code",
   "execution_count": 83,
   "id": "cf81a8a1",
   "metadata": {},
   "outputs": [
    {
     "data": {
      "text/plain": [
       "0.7611391345428012"
      ]
     },
     "execution_count": 83,
     "metadata": {},
     "output_type": "execute_result"
    }
   ],
   "source": [
    "lr.score(x_train,y_train)"
   ]
  },
  {
   "cell_type": "code",
   "execution_count": 84,
   "id": "ca968649",
   "metadata": {},
   "outputs": [
    {
     "data": {
      "text/plain": [
       "0.5992780398580912"
      ]
     },
     "execution_count": 84,
     "metadata": {},
     "output_type": "execute_result"
    }
   ],
   "source": [
    "lr.score(x_test,y_test)"
   ]
  },
  {
   "cell_type": "code",
   "execution_count": null,
   "id": "074b8eef",
   "metadata": {},
   "outputs": [],
   "source": []
  },
  {
   "cell_type": "code",
   "execution_count": null,
   "id": "23cdb78d",
   "metadata": {},
   "outputs": [],
   "source": []
  },
  {
   "cell_type": "code",
   "execution_count": null,
   "id": "38cad3b9",
   "metadata": {},
   "outputs": [],
   "source": []
  },
  {
   "cell_type": "code",
   "execution_count": null,
   "id": "b6a35a24",
   "metadata": {},
   "outputs": [],
   "source": []
  }
 ],
 "metadata": {
  "kernelspec": {
   "display_name": "Python 3 (ipykernel)",
   "language": "python",
   "name": "python3"
  },
  "language_info": {
   "codemirror_mode": {
    "name": "ipython",
    "version": 3
   },
   "file_extension": ".py",
   "mimetype": "text/x-python",
   "name": "python",
   "nbconvert_exporter": "python",
   "pygments_lexer": "ipython3",
   "version": "3.11.5"
  }
 },
 "nbformat": 4,
 "nbformat_minor": 5
}
